{
 "cells": [
  {
   "cell_type": "markdown",
   "metadata": {},
   "source": [
    "## YOU HAVE TO THROUGH A DICE 5 TIMES AND YOU HAVE TO DO IT 50,000 TIMES AND YOU GET 50,000 MEAN VALUES.YOU HAVE TO DRAW FREQUECY DISTRIBUTION OF THIS AND DRAW A BARPLOT."
   ]
  },
  {
   "cell_type": "code",
   "execution_count": 3,
   "metadata": {},
   "outputs": [],
   "source": [
    "import random\n",
    "import matplotlib.pyplot as plt\n",
    "%matplotlib inline\n",
    "import seaborn as sns"
   ]
  },
  {
   "cell_type": "code",
   "execution_count": 21,
   "metadata": {},
   "outputs": [],
   "source": [
    "arr = []\n",
    "freq = []\n",
    "for i in range(0,5*10**4):\n",
    "    temp = 0\n",
    "    for i in range(0,6):\n",
    "        temp += random.randint(0,7)\n",
    "    temp = temp/5;\n",
    "    arr.append(temp)"
   ]
  },
  {
   "cell_type": "code",
   "execution_count": 11,
   "metadata": {},
   "outputs": [
    {
     "name": "stdout",
     "output_type": "stream",
     "text": [
      "{4.6: 3340, 3.0: 2144, 3.4: 2824, 3.8: 3176, 4.0: 3396, 2.0: 546, 5.8: 1316, 6.0: 1102, 5.0: 2774, 5.6: 1699, 4.8: 2919, 3.2: 2466, 5.2: 2427, 4.4: 3351, 2.4: 1011, 7.0: 149, 3.6: 3056, 2.6: 1385, 4.2: 3350, 5.4: 2051, 6.2: 712, 2.8: 1716, 6.6: 378, 2.2: 808, 6.4: 544, 6.8: 257, 1.2: 79, 1.4: 157, 1.8: 391, 0.8: 21, 1.0: 54, 1.6: 229, 7.4: 34, 7.2: 91, 7.6: 21, 0.6: 13, 7.8: 7, 8.2: 1, 8.0: 2, 0.4: 3}\n"
     ]
    }
   ],
   "source": [
    "arr = []\n",
    "freq = {}\n",
    "for i in range(0,5*10**4):\n",
    "    temp = 0\n",
    "    for i in range(0,6):\n",
    "        temp += random.randint(0,7)\n",
    "    temp = temp/5;\n",
    "    arr.append(temp)\n",
    "for i in arr:\n",
    "    if i not in freq.keys(): freq[i]=1\n",
    "    else: freq[i] += 1\n",
    "print(freq)"
   ]
  },
  {
   "cell_type": "code",
   "execution_count": 19,
   "metadata": {},
   "outputs": [
    {
     "data": {
      "text/plain": [
       "<matplotlib.axes._subplots.AxesSubplot at 0x7fc4618925c0>"
      ]
     },
     "execution_count": 19,
     "metadata": {},
     "output_type": "execute_result"
    },
    {
     "data": {
      "image/png": "[encoded data removed]",
      "text/plain": [
       "<Figure size 864x504 with 1 Axes>"
      ]
     },
     "metadata": {},
     "output_type": "display_data"
    }
   ],
   "source": [
    "fig, ax = plt.subplots(figsize = (12, 7))\n",
    "sns.barplot(x = list(freq.keys()),y = list(freq.values()))"
   ]
  }
 ],
 "metadata": {
  "kernelspec": {
   "display_name": "Python 3",
   "language": "python",
   "name": "python3"
  },
  "language_info": {
   "codemirror_mode": {
    "name": "ipython",
    "version": 3
   },
   "file_extension": ".py",
   "mimetype": "text/x-python",
   "name": "python",
   "nbconvert_exporter": "python",
   "pygments_lexer": "ipython3",
   "version": "3.6.5"
  }
 },
 "nbformat": 4,
 "nbformat_minor": 2
}

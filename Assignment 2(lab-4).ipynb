{
 "cells": [
  {
   "cell_type": "markdown",
   "metadata": {},
   "source": [
    "## YOU HAVE TO THROUGH A DICE 5 TIMES AND YOU HAVE TO DO IT 50,000 TIMES AND YOU GET 50,000 MEAN VALUES.YOU HAVE TO DRAW FREQUECY DISTRIBUTION OF THIS AND DRAW A BARPLOT."
   ]
  },
  {
   "cell_type": "code",
   "execution_count": 22,
   "metadata": {},
   "outputs": [],
   "source": [
    "import random\n",
    "import matplotlib.pyplot as plt\n",
    "%matplotlib inline\n",
    "import seaborn as sns"
   ]
  },
  {
   "cell_type": "code",
   "execution_count": 23,
   "metadata": {},
   "outputs": [
    {
     "name": "stdout",
     "output_type": "stream",
     "text": [
      "{3.6: 3025, 2.2: 805, 4.6: 3214, 6.8: 220, 4.0: 3397, 5.0: 2652, 6.6: 399, 2.4: 1046, 4.4: 3427, 4.8: 3052, 5.8: 1348, 6.2: 791, 2.8: 1703, 5.6: 1681, 3.2: 2442, 2.0: 540, 6.4: 571, 5.4: 2123, 4.2: 3526, 1.8: 363, 3.0: 1984, 3.8: 3281, 3.4: 2769, 6.0: 1021, 5.2: 2377, 2.6: 1311, 1.6: 267, 7.0: 161, 1.0: 54, 7.4: 56, 1.4: 149, 0.4: 6, 7.2: 82, 1.2: 71, 7.6: 28, 7.8: 13, 0.8: 27, 0.6: 13, 8.0: 4, 8.2: 1}\n"
     ]
    }
   ],
   "source": [
    "arr = []\n",
    "freq = {}\n",
    "for i in range(0,5*10**4):\n",
    "    temp = 0\n",
    "    for i in range(0,6):\n",
    "        temp += random.randint(0,7)\n",
    "    temp = temp/5;\n",
    "    arr.append(temp)\n",
    "for i in arr:\n",
    "    if i not in freq.keys(): freq[i]=1\n",
    "    else: freq[i] += 1\n",
    "print(freq)"
   ]
  },
  {
   "cell_type": "code",
   "execution_count": 24,
   "metadata": {},
   "outputs": [
    {
     "data": {
      "text/plain": [
       "<matplotlib.axes._subplots.AxesSubplot at 0x7fc46141efd0>"
      ]
     },
     "execution_count": 24,
     "metadata": {},
     "output_type": "execute_result"
    },
    {
     "data": {
      "image/png": "[encoded data removed]",
      "text/plain": [
       "<Figure size 864x504 with 1 Axes>"
      ]
     },
     "metadata": {},
     "output_type": "display_data"
    }
   ],
   "source": [
    "fig, ax = plt.subplots(figsize = (12, 7))\n",
    "sns.barplot(x = list(freq.keys()),y = list(freq.values()))"
   ]
  }
 ],
 "metadata": {
  "kernelspec": {
   "display_name": "Python 3",
   "language": "python",
   "name": "python3"
  },
  "language_info": {
   "codemirror_mode": {
    "name": "ipython",
    "version": 3
   },
   "file_extension": ".py",
   "mimetype": "text/x-python",
   "name": "python",
   "nbconvert_exporter": "python",
   "pygments_lexer": "ipython3",
   "version": "3.6.5"
  }
 },
 "nbformat": 4,
 "nbformat_minor": 2
}

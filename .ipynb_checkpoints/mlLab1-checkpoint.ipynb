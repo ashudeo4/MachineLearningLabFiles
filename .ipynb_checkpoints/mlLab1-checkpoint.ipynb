{
 "cells": [
  {
   "cell_type": "markdown",
   "metadata": {},
   "source": [
    "### You have to generate 1000 random strings of random lengths between (2,10). Calculate their hash value and sort them in ascending order according to their hash value. (Rabin Karp Algorithm is based on this)"
   ]
  },
  {
   "cell_type": "code",
   "execution_count": 21,
   "metadata": {},
   "outputs": [],
   "source": [
    "from random import * \n",
    "import string\n",
    "\n",
    "# attempted solution\n",
    "arr = []\n",
    "for i in range(1000):\n",
    "    hashv = 0\n",
    "    allchar = string.ascii_letters + string.punctuation + string.digits\n",
    "    st = \"\".join(choice(allchar) for x in range(randint(2, 10)))\n",
    "    for j in range(len(st)):\n",
    "        j+=1\n",
    "        hashv = hashv + j*(13**j)\n",
    "        arr.append(hashv)\n",
    "    arr.sort()"
   ]
  },
  {
   "cell_type": "markdown",
   "metadata": {},
   "source": [
    "## Taught solution"
   ]
  },
  {
   "cell_type": "code",
   "execution_count": 4,
   "metadata": {},
   "outputs": [],
   "source": [
    "import random\n",
    "Alphabets = \"ABCDEFGHIJKLMNOPQRSTUVWXYZabcdefghijklmnopqrstuvwxyz0123456789\""
   ]
  },
  {
   "cell_type": "code",
   "execution_count": 5,
   "metadata": {},
   "outputs": [
    {
     "name": "stdout",
     "output_type": "stream",
     "text": [
      "9\n"
     ]
    }
   ],
   "source": [
    "print(Alphabets[61])"
   ]
  },
  {
   "cell_type": "code",
   "execution_count": 6,
   "metadata": {},
   "outputs": [],
   "source": [
    "Strings = []\n",
    "for j in range(1000):\n",
    "    Length = random.randint(2,10)\n",
    "    Blkstr = \"\"\n",
    "\n",
    "    for i in range(0, Length):\n",
    "        Randno = random.randint(0,61)\n",
    "        Blkstr += Alphabets[Randno]\n",
    "        \n",
    "    Strings.append(Blkstr)"
   ]
  },
  {
   "cell_type": "code",
   "execution_count": 7,
   "metadata": {
    "collapsed": true
   },
   "outputs": [
    {
     "name": "stdout",
     "output_type": "stream",
     "text": [
      "['Lgf', 'y5LmPI22', 'R9XaS', '99JBQ2Zh', '1ehq', 'FiJxMYbERd', 'OB9OgyaNG', '3H3weXzK', 'K3', 'Bwe1lR', '3SnUf7YfL', 'ys', 'jlr', 'WK', 'kuhhcgqegr', 'MRLrl0', 'UnUkwLx', 'ghd2GLq', '9DgC65T', 'jyK', 'rk', 'yd1uPq', 'TjN04U', 'tL4C', 'EY', 'Drgvk', 'bgGJUTOMs', 'jQRIGU54CY', 'DQ0pq86gTN', 'Wg', 'opp', 'uDQNZf', 'Y2', 'xDSzvxd9G3', 'hXj', 'POp', 'Fcnec8w', '4IrX', 'nADnf', 'IRZYF50Xyf', '1P51I', 'AVfPKBq', '8I', 'cdtVrbJAep', 'm0', 'bh5TOqFp', '5RYTTQQ74p', 'Bz6IuQ', 'MPBMhdmwMX', 'aSAdm1P7Ne', 'L8lTCm', 'Jc', 'ECwUIe', 'uDrP', 'QOG66', 'HusmOxz', 'YI', 'tNq', 'zCUcwZTv', 'nUCLJinJ', 'Ub5Dynj', 'Bd50', 'BaVxBin8x', 'wZ6IkXF7', 'FBP', 'ouNPBY', 'Bf5U', 'S4aPR7', '6vzdd7I', 'R8Pgif', '0QAwAHy', '1mJ32lKO1', 'h41hU6B', '9yM9dw', 'KU', 'p6yx7', '2zYuI', 'wFK7WTO', 'P5', 'PmW5', 'QGAL', 'yU3hrhHGA', 'K62CQQAwLq', 'r7QUcCpTY5', 'VF', 'Dw6MS', 'HVYIjs0', '2s8Zve', '61TR', 'Y298ufV0', 'm6DdcPvA', 's4w7Wz', 'EV5aVF', 'u3zHh0R', 'KNYHBy7', 'zKgvpr', 'RH', 'nVAYOO', 'ofrwdJQ', 'q86zFn', 'pFJi08PWNE', 'JC', 'fz', 'JS', 'MGJ2Mi', 'u7', 'Wt2LImFS', 'JbkjJA8', 'Svy', 'VGRM', 'DlToU4', 'IFvqgNY61H', 'vvveE', 'Dw', '5j', 'RfGsQp', '4ZhYnZmTOl', 'Tc0Riu', 'TIiVT0p8', '4lnZ', 'dsXLgkh', 'MpXifrfY', 'Tmw72nz2', '3T1', 'FUv', '3pSfqP6BlK', 'sPc', 'M3WPftC', 'lcjQBD', 'o3FogFiQF', 'sSzGynQCgs', 'Oh0UM9qMK', '4Ki4Bhsmvz', 'BhC', 'PBRl0Wqn6z', 'G7yFkMco', 'nVrcuJOP', 'xXGIM', 'Yvx', 'spwQBrU7Wl', 'VKUfxem', 'RS5A', 'r2', 'MO24ok8REQ', 'c1VA', 'Azp0vVU4Bs', 'IohQVhs', 'Cd73wDXPG', 'wh', '1U', 'lCALsEBlu6', 'RFm78PZvaR', 'MSVKUEOVPK', 'Yn75', 'e7Y', '2u', 'r7Yy4iS', '8upCL5v', '92', 'iri2yjXPI', 'TXoorDz', 'bi', 'sjkR7', 'oT1kZ9hwd3', 'BEOE4j', 'gyNVUD', 'UDbf', 'gv3hPz4ZX8', '3gYyTlG', '7S0Nuq', 'd2QgaDI', 'E5PB', 'z0ZiO7RUc0', 'hMsgvyoU2i', 'C0IMi', '0P54f', 'XWu', '0Q', 'mFz', 'Jmrql9KH', 'JsbN', 'Jxv4uP6zPy', '17C', 'yBo', 'itsM', 'LrMVe', 'vGX', 'EGdqwSJ1X', '6lNpdqQ', 'LLJ4C5YLZ5', 'k7sh', 'pECIIvlL', 'vdvDwqf', 'XHoNtyw', 'RCEakim', 'DcNaJ8Yo2', 'Rs4B1', 'cNBNjGTM', 'SKOevJt8', 'iyr', 'UZvKJp5Q', 'a3', 'OQE6cs', '48', '8Yix', 'gZJYJ9', 'VnHZD', 'cc', 'uGH8YlS', 'ojNl', 'png82HN', 'nskg', 'YyIJs6ZT', 'VbyO', 'wh', 'B36n6', 'kzCadUo', 'AY8Etv9', 'UeWN5EV', 'sVGLfZLA', 'wfvMV', 'sx', 'm9QFa', 'QK3D', 'DX677Q', 'P5FiHFZ', 'glN', '02pwrUZ9CF', '652P0nJ4', 'h2b', 'exTGhz', 'oW4jbQS', 'zyw', 'tYF7', 'Q69r9Aepr', 'Nimc6ybmX', '0E', 'Nv65WouDaJ', 'DG3ASA5', 'UGVgFr', 'Aep', 'h8', 'XWs1fXD', 'h43', '7nxpftFU', 'WEKL0PFZbt', 'dUjPs', 'iIY9csNB', 'GGEAdio3C9', 'F91AxBcFo', 'jBlUpit', 'SatUo', 'lGMMmUT9rz', 'MWU', 'JWanK3b69v', 'utsWDWuVR', 'kxEQ6', 'GXXWUcsW4', 'p1t9wmqpot', 'r09z', 'jh', 'T1QwM0z', '0u1oyc', 'l4JPn', 'LpR94hbxW', 'TG', 'jy9hqJBjgr', 'rTIyNog', 'MNfQ8', 'mggI4kTM4i', 'RiaRiA', 'IyBG', 'HP', 'HZAFaqcY', 'DwC6', 'J21wfuORu', 'LCwocGpayy', 'HNccHeFJri', '6ji30mWx', '76QGwWN8Gk', 'nNNe', '4VBkBde', 'roLiRu', '8BPut', 'NQkE6Sa', 'X2N', 'SeGKItGhZ', 'G6bW', '7jQ', 'IoujX', 'S8Lz9I', 'a9AF', 'bqMImcSNcl', 'Fp9neNjtg', 'nBNP3dSg', 'VW4opWa', 'QRrouoCyqp', '0ZzELpgKbx', 'bYetupT3g', 'Q9Xtu', 'DqjWv', 'kNevd', 'xd7', 'LqL', 'ZGMC6Zh', 'rD', 'DI', 'mDg', 'uY2Si9', 'yZexjKNu', '9kyCxcGlrW', 'X1EP', 'vB', 'nx16Arc', '6VovkVtvSM', 'iP', 'qh', '4YbI', 'BLMO8Bj', 'JbQkvO6', 'iCGf', 'Q1NHeO', 'LkVBan', 'h3', 'IDfoIFG6No', 'pKTBLGYR', '0Voqwzb', '4ZE', 'uYiv9YL7V6', 'JuX5', 'U3dw', 'seiM54', '8V', 'thU', 'IjJHNYVWjx', 'miWQHWr', 'ZV3Ze', 'gJ6NwZG', 'xUOdCz', 'bs6', 'iyEhLC3', 'U5W9tkMv7', 'kX3B', 'eB0jAZj', '2YrY', 'AIzqBK', 'Ea1', 'Yg', '3us', 'cLhDrg', 'dfGGEIoQ', 'KhOv', 'UyDYDZ0OS5', '09', 'SIo', '8CWT7zE5xw', 'eR0dd', 'ypU5', 'SopzB', 'jAfjOB', 'HGm', 'syykVgFlif', 'BPNWgDO', 'vzlJMX', 'n6', 'V9TPr', 'PX', 'vMjAl', '9RRFeEELea', 'wgJ', 'Sir', 'V77ichT5SQ', 'mTY', 'm2cb', 'f7a', 'yt', 'mDiPkCVvoO', 'sLV', 'VEU', 'q9tlmL', '9n1N8VM2', 'OX3U10Ym', 'lLk', 'B99SNnkhgY', 'Q9lO', 'whMMFdx1U', 'Ts3aM', 'qpNcgd8J2', 'xd3eX4rJ', 'vDASq9my', 'Wg', 'mBydq15pZS', 'OdEePhJM', 'POhrcq6wy', 'jMu5Oa5g', 'oaprZ1', 'a65AtAN', 'Rf4B0Ppm', 'kbLEo', 'UDoBOC', 'Ur', 'tIU8Uk1', 'ABI', 'Xoa', 'SsIwe9z', 'FKaBZUDi', 'riYHT', 'P3XZb', 'ukg8XN', 'Y1USghKrA5', 'tMWXg8cqoU', 'czkxuEXJM', 'Eihbn5Lt', 'zTp1i', '2FvBo', 'Rh5kn9W', 'RHzHZRRD', '68LO', 'MVtT2', 'UJU', '2odOJG8Yh', 'eF4l', '1qvvsHhC', '3hFg', 'Ut', '428', '9KZbiEkA', 'TAlxkdZggE', 'dVUC', '4gcaJ7w', 'FaAtW53H0f', 't5GJUmkr', 'tV', 'Pq', 'HnsVBzJbD', 'lgbtuJk5R', 'YDId', 'qMr1J', 'Jwqiym2R', '8w', '6wh99Utx', 'VqwFIu', '3GnANTSW', 'EY5N2Qsvg', 'W2', 'DdRbXQvu', 'Q4uZ', 'Gvwu', 'GFjSt', 'B30ljbiva4', 'KQGugeiseb', 'd4sqD935dW', 'GA2Ffmdc', 'ZYGV9', 'Wk5W1T', 'v7k5', 'oR1kVQJ', 'Pg7pO7L5W', 'hEca', 'RjkuGfe', 'uNh', 'lLhmR', 'yvDHGZw68', 'Pn3', 'hMPbw7n5', '5F2', 'KI', 'cH6jqeC', 'JXEJ0', 'wj0', '6JJ', 'oMvlMO', '6q0hDpUMG', 'PX1WNjBF', 'AK', 'Age', 'g6E', 'B1SpVwAWh', 'AhyDc', 'sF8H8', 'UWmteXQ0RT', 'WWyUT0KX', 'lo', 'so7nM', 'voyh', 'tFhwGkjMH', 'FZ', 'HdB3', 'jX75gLK', 'TDCt3bATS', 'EARwy', 'jOU4XkUw', '62VhN', '55cg', 'fiPBrImWZ', 'JLm', 'uZulIFSQx', 'QjorFBaY03', 'MVkO', 'Fmokx54', 'Uyg5ie', 'qP', 'Ue', 'Fbyt4MkI', 'xWaKAHqGLL', 'bk', 'pvH6Ir', 'DgTd57q', 'NVfsv93Tfn', 'rs7tIlcHnO', 'bFD7cr', '2afTCqP6P8', 'ibL879jK', 'tz4u5XlyQY', 'SSanLp', 'TIzGJ', '3ux0R', 'pRe', 'Qxi4fG8E', 'Wnz8LkjdO7', 'jdQz3Lqfm', 'vu65l7Yh7v', '0ssS', 'l0puOvGN', 'j8GOEoC', 'x0JAkX', 'QHVjae', 'rpxkjx', '4fgCGJvT', 'IlQkiE', 'H3', 'hKmCTR', 'WZv3Hqz3', 'gkM', '3qMqIVR', 'zSSFu86n', 'pW', 'cEbsvxvsK', '7JGXLg04U', 'CYkcKf', 'hWT7kfn', '2tfh5P', 'KA9GV', 'V239x59X1B', 'qh', 'wm06', 'is3xNN0d', 'FoVD', 'XzhkcDCfC', 'pgCuQjen', '2C', 'ZasYE9REEL', 'qkj5V', '8ET', '5od1mgrKn9', '9UwUtXh6', 'wlJG8', 'ac0Aa7fAD', 'knlV3r1R3', '1ujdfhPZl', '6b', 'eGf', 'jU4jh', 'oBW', 'ZPQC92', '30', 'coi6UPKg8', '8Oph9aPLM', 'rvm', 'Qh', 'Jlc3YsA9', 'TlOh', 'DKSj', 'UvqHOifZb', 'LRwfZ2Uxwm', 'Czl5t', 'k6uN', 'MpiSDtFPn', 'cO1V', 'cRd1B8ISav', '8XGFb', 'n5o0Uv7C1J', 'k72hWEdD', 'xCEpMIdT', 'I2BMD', '2xkF4g', '9s', 'Qjh', 'yEvOJ1oM', 'cX', 'qdY8Xi7m', 'otoeEAIs', 'mD', 'JaIA', 'o2L', 'jjU3Q7pX', 'phi', 'Bf8Ouh', 'ScBhI', 'oqb8rEe', 'OD', '96KbObes', '7k3nx4wzM8', 'PpA', 'H4', '3f', 'Yj', 'QOzHJY8o', 'dTpztVJF', '9xIFq', 'ATM8', 'TAp5hVN0j', 'sEb7UEa', 'piA', 'pSBB', '8Q3', 'l61N', 'Apn6x', '3wmK', '5zpgQG', '6oooU0C', 'VE', 'Hega', 'rF4Ox', '8GdhUoa', 'jBlBPxIEvn', 'Wh', 'lGh2', 'Px3J', '2ZBwD', 'gSdpm', 'oaa3uOF', 'TxB', 'bA', 'xE17', 'VhudB', 'Ep2iGrX', 'zRWo', 'opfH', 'kjX', 'HJC', 'g0', 'UBCs', 'xi66l', 'MW3', '2R', 'pMqtjkgMBQ', 'JCiEQ', '5sYaB', 'LzWX5E', 'uLj3y', 'zsYGa2', 'IsrV', 'Qd', '8VUbR', 'As8cL', 'UF', 'asiY', 'sfO0B0mk', 'cKGgI4n', 'qk', 'BNS9GrYzLz', 'uDO', '02', 'xY5viwj2', 'BGtqu9A', 'ndMgfc', 'CQ', 'sNqNRr', '9lba', 'UefCgvw8KY', 'zmgPL7Jb', 'ZX', 'y9JWUXO3b', 'IL', 'd4F', 'J3Q7b8G5QV', '0kD', 'Zesm5XL5', '2m28Mq4k', 'eHHjNQRFma', 'iyrNKw0dv', 'SFH9hlBmm', 'nz', 'evQ', 'mItLx', 'B7Y7', 'QvGs7EdwmF', 'pulSI68', '6pFgFnyTJ', 'JFZnw8a40q', '2sb81iv', 'sMU', 'VOsZp9byRD', 'gL5plFL', 'T7', 'hxJP', 'JYJqjHd', 'bGB', 'Xl', 'uZYMMb2', 's9he9x6e', 'WJw512455', 'z9Oz', 'eera3W6R', 'AF0se5q', '5w', 'Kz585nohCL', 'ip0a5S', 'tHsBET3', '6AGUMAmq2S', 'h2kPBwaK', '6k', 'CO', 'jVOI3u9', 'oV', 'KlmoL', 'b4fh', '72moht', 'e5zEzjL', 'xh6l58', 'ZwmUQlSnz', '7OLAUSSLq', 'YlP6cey', '2c', 'D8LO', 'Ucm', '761', 'Z9OJy', '62dr5', '3R', 'bo3QxQ', 'pzkG5', 'faJI', 'MFz', 'kQbDDSvc6', '7T5g', 'fU54ieVy', 'In1', '2JTQjdvM', 'l0jcj3s', 'pacq', 'si7uwKLboV', 'bBc', 'sRdi3', 'Niyu', 'tzneKIi', 'PkKgz', 'rxEhuyl2', 'Mbc', 'nn', 'wrfU', 'TMh', 'Z7kDjvIQ', 'rL3', 'zEzHQjEMd', 'qDmYSk', 'BRSXxdp', 'p71lMlKVpn', 'Cx', '37E1GhO', 'NrcQRzGoS', '3Uo', 'nM1S', 'sS3FPL', 'YCcJOIxLV', 'IrWoN4l0SJ', 'WrJzLB', 'KS', 'YDsIy0', 'Ca3Ojjzrod', 'IF', 'vdKU3', 'pRBH', 'p8', 'C7AJ7skV', 'c1jKin', 'Vp', 'MoUWr5', '5dX6bHwvWv', 'WmZC3UE', 'mp', 'emblLnI', 'x2n31WoCKp', 'go', 'Ycz3Ll', 'Ao8nR3KgS', 'HnIrfoISHH', 'LOi', '7aRk5qX3Z', 'mvBh', 'qHJh', 'QYk8HX', 'UnkRSsV7R', '8GGfbeGGh', 'udmn', 'B63UzQ58m', 'RJRL7', 'jaPLvhZtxg', 'p3jwly', '1wK3F43', 'XifHNP', 'zsPBjd', 'F8PN', 'wVjfogrye5', 'dYQ', 'hRl', 'T1WIXHFA', 'ZA', '52cNNFm8', 'gFn4is9', 'TJkLmHGElX', 'loP', 'iu', 'umxki5A', 'HVLiueiY', '9ndW0', 'VNWCYa', '4I', 'F3JI6tOi', 'sUzMOiSYC', 'vD0o5vJ', '3q5z', 'Rav2tB', '3FmWA3', '3WEGLx0U', 'KmMbMg', 'q4ghMddm', '07Q5FNtNd', 'JI5Ka9lYy', 'ioJVANMlWE', 'GoqXB9wVlh', 'EXRm', 'Uq9hxd', 'BKaGp', '94JwzlwuL', 'yxk', '8hD7ssT', '2BGZWJ8Y', 'uk', 'Ua6Cj', 'tOX', 'pUtUGRhYV', 'M90HA', 'KmlJiFq3A', 'Gu8Q5n', 'NDh', 'fr1FJyX', 'LGnRN9zV', 'q11GaZN', '2vnFCGsZd', 'Z6XdEKU', 'Zi3gbPDl', 'rQz0F0v', 'pQkP', 'bGtGyE8v', 'mqG2fCXE', 'Q1ijpsPlI', '0kY7Lg', 'KKR5ipqOr', '4OadD5vS64', 'eF5Iw64', 'M2ooptnSbK', 'HBZLmqeJAn', '2RZe', 'YmBi', 'akAzgWSQy', 'KSy8', 'sKolYe', '6UdJjZYe', 'Xtog2hoD3Q', 'aElI', 'Ntl', 'bI0aBEgv', '4Ds47m', 'HkNf6mPj', 'Kdz', 'E8LwOVZkq', 'yiyu', 'mlmMOtPai', 'Toplk', 'bcy', 'ajcNCT1H', 'zU1l0sa2e', '6xXSVq', 'X7eCSnPNy', 'xvwkEcpgk', 'aZGLO', 'fY25', 'L2UG', '1NHx3te', 'cX5dk3paT', 'JUn', '4dp', 'aVvpc2dz', 'N9AgJEHz', 'jHOuIp', '8lqPLH', 'Iy9', 's87n3qzk', 'dQstfKjSC', 'T7UN931r', 'Jlnu2afyri', 'Ps4ahqr5i', 'ErghqyXLf', 'TTYotdS8H', 'u6XvJ115ZH', '141zxSlXu', 'LR5X7kn', 'm0lb', 'nhJ21QP6', 'I2ld', 'tStG8jVb25', 'ZVQDYo', 'E4dwj8g', 'iZ1', 'kLh', '29e', 'JMHcFxlQX6', 'kruksfT', '4A50TvCT', 'NFb5RC', 'gVs6x5Cyn', 'WrorwDZ', 'POw1qXDnoK', 'h7NoVnk2N2', 'FnH8VqI', '1L386P27fK', 'IB2dvK0Ou', 'MzS8AotcU3', 'rB', 'gf8', '9RTePlX', 'Pdd', 'Mcym0', 'msxL', 'fIEW', 'Ejsj5asIo', 'ByM8v4H', 'HpoBF2Aq', 'BYCddQq', 'TUpgp3QL', '7XMWzWHo', 'qE86AnX', '8OtaE2', 'Tv8B', '2eJzOqu4I', '5EL', 'q7yjL1LqD5', 'ZpoYPU9Lj', 'fKNQ31Jd', 'cS', '7XNMYa', 'R9eO', 'cZz4zR5dKk', '3JeotmEQ', 'tT', 'wmTTYqp4F', 'hJb', '47jcqA9e', 'wN', '6cLEvyj', '0ZbssreA', 'st', 'WEoDi', 'L94XP', 'vygeiEXRy', 'IkA6', 'vxWiddLUG', 'azH4s78l', 'KdS', 'DK', '7axlmclbMa', 'Go', 'iK', 'dE5', '6hxiKJI5', '0TLsUZfjVZ', 'SAptHOb', 'z1kXMA', 'Z2YXAz', 'bjU9x21r', 'ckdL', '3H5US8A7C2', 'NVEvLvI9aF', 'g3iooYGOk', 'WZuu0', 'B6gi', 'ly47fl61ys', 'h2xz', '4GwFTwgrW', 'l8wQdpQ', 'ItB4Xp2', 'cwbeKnqu', '57', 'Ec', 'Efq1', '2R3IGGCB1r', 'GvTqd5RCM', 'RXVtGv']\n"
     ]
    }
   ],
   "source": [
    "print(Strings) #mcqSysP, #tQHm2k"
   ]
  },
  {
   "cell_type": "code",
   "execution_count": 136,
   "metadata": {},
   "outputs": [],
   "source": [
    "Asciival = {}\n",
    "\n",
    "Asc = 65\n",
    "for char in Alphabets[0:26]:\n",
    "    Asciival[char] = Asc\n",
    "    Asc += 1\n",
    "\n",
    "Asc = 97    \n",
    "for char in Alphabets[26:52]:\n",
    "    Asciival[char] = Asc\n",
    "    Asc += 1\n",
    "    \n",
    "Asc = 48\n",
    "for char in Alphabets[52:]:\n",
    "    Asciival[char] = Asc\n",
    "    Asc +=1\n",
    "\n",
    "Primeno = 13\n",
    "\n",
    "Blklist = []\n",
    "for string in Strings:  \n",
    "    Hashvalue = 0\n",
    "    Power = 1\n",
    "\n",
    "    for i in string:\n",
    "        Hashvalue += Asciival[i] * Primeno**Power\n",
    "        Power += 1\n",
    "    \n",
    "    Blklist.append(Hashvalue)"
   ]
  },
  {
   "cell_type": "code",
   "execution_count": 144,
   "metadata": {},
   "outputs": [],
   "source": [
    "D = {}\n",
    "for string, Hashval in zip(Strings, Blklist):\n",
    "    D[Hashval] = string"
   ]
  },
  {
   "cell_type": "code",
   "execution_count": 149,
   "metadata": {
    "collapsed": true
   },
   "outputs": [
    {
     "name": "stdout",
     "output_type": "stream",
     "text": [
      "{538319743: 'tQHm2k', 645524942491: 'M57u0wc78', 63524663540: 'vMHtBMFH', 11583100325537: 'd8Cak3EfmK', 20267: 'Zq', 96811700518: '3lObaDDq', 384481942: 'vnBv3K', 22048: 'nz', 41358005: 'tOoWh', 631378072117: 'rbWCv8cM5', 1681329: 'qcx1', 9295: '43', 126204: 'XZ2', 1023817798445: 'Z9cmNJIOZ', 41397265: 'Q6BBj', 648090593748: '812Bo0CW6', 17119844893372: 'DTVkZvS2ss', 43097244333: '5fqWwB90', 1194685270363: 'VEWQsHiug', 200837: '9OU', 68701631687: '0McfdkHN', 5390155862: '9O2gBaN', 374443472: 'fSXgZF', 2242747: 'qPhF', 29812237: '1xvUI', 7988010868682: 'BPuAmR3Ma2', 270257: 'jzq', 95973804680: 'F9Rs1wZn', 12363: 'PC', 587446574: '7nab5u', 1337368212128: 'Hp2vw9vFx', 1309089585882: 'PHXlHNlKu', 72929906647: 'PRkXXd1U', 2339727: 'bmkI', 31672940: 'f2cqL', 101375962402: 'q92cvLrs', 31576519: 'yLv8P', 4166771297: 'GKXKer9', 7217972749: 'MEYo0dk', 28400606: '3qqeD', 4976027641: 'UKvwCfG', 7727300135087: 'zdm7SpwgF2', 1134075240909: 'OTAZ2N1cc', 5932394143: 'Zz2yyKX', 452123009: '5en48Y', 101160148141: 'xNn4VcFv', 411442564: 'F8FdpL', 374425792: 'k8lX4I', 42527134: 'LTTui', 12607156335137: '5CbfQObx0W', 234611: 'QRd', 198588: 'i1V', 1617863: 'P3l0', 279357: '4sv', 1273402453583: 'sxKouAIpo', 11956255351443: 'nFXyZ2eLkN', 806764559627: 'q89P3KUoC', 2476461: 'IXPP', 11309822531566: 'NAMYcYO4JL', 87277220797: '6NcEEnya', 277420: 'opu', 508493297: 'BU7P2e', 12974: '1I', 15782: 'SW', 18330: 'Tf', 127595: 'NI4', 7619707238: 'vAda45u', 5458427936: 'C6FdxxM', 289643328: 'sCeaS5', 1239428568586: 'UGtXopWRn', 18590: '4j', 78437134685: 'EBqEs8KZ', 8196348419701: 'CjIYsGFaf3', 20709: 'Ut', 610508249: 'fiZJNx', 622676821: 'krZTay', 12449203835055: 'vq6vjJglcR', 3559608: 'Xd4x', 563933526: 'XMzBml', 64799820085: 'iiClExqF', 86802771549: '6XrFhqJd', 63956515714: 'ma163ZsE', 960991357365: 'qLwzXmSvQ', 5377926502: 'RoGfHxL', 19266: 'Am', 21266947: '3qZ05', 274664: '7Jw', 21515: 'Ry', 14270950006066: '62s24bBE5c', 21827: 'jy', 18226: 'Ye', 269594: 'QQt', 79522817634: 'Xik9spXZ', 47180873792: 'NUNliDF4', 33475026: 'Bl9XS', 22717552: 'mI3f5', 18057: 'Le', 591227338: 'phLffr', 258128: 'SNo', 230984: 'rTb', 10038468041199: 'Jc5WDtzf6D', 145730: 'Et9', 2378987: 'f73O', 17270747731471: 'A6VaaZHjcu', 1360979478014: '4m3vLZYKz', 13236663837085: 'EBArPRDXTY', 6104283692: '2tQvtoX', 3336554: 't4Go', 523520582: '3UzQ3h', 87773322806: 'uGomfjgc', 1880671: 'Dcx8', 89737772410: 'PpjxXbFh', 76191695515: 'h40Bqo0Y', 3701659: 'Eaux', 2741765: 'azQY', 18408: 'ge', 5846370205: 'ov3I1LW', 47349823066: 'YGnwNBc2', 16377981676693: 'cejKJm45Tp', 228995: 'ALb', 195130: 'cDS', 226408: 'JIa', 40991327: 'kxnqe', 283634: '8rx', 74273176549: 'rvpo3RoR', 252148: 'A9n', 1180555468443: 'DifaFIrpf', 273719173: 'OQP0S2', 273195: 'bXu', 506809030: 'hdPaSb', 276055: 'aBx', 14343174726491: 'rFM77UdZGb', 18733: 'sf', 51181476736: 'KHlg38z5', 157807: 'XEB', 10283757378544: 'Nza3UgjO5F', 7031706877: '4HCAmSi', 3633617: 'qkHy', 5004215515: '0wrvARI', 16583344677146: 'KxHxehKELr', 14014: '3O', 77204932636: '3oppRLwU', 441191725: 'g3NrqR', 1111825732459: 'ZIZS8zkPb', 14482: 'JP', 1016616086486: 'qs8R6iVEZ', 1759693: 'zk39', 87166454765: 'LMFPRI9f', 796762552690: '029sU69rB', 8847017217623: 'TFOON6P1s7', 557459487: 'LkbK4o', 6810880349: 'jakNHvc', 12672728503149: 'kCFt6DAcyR', 553720505: 'WEYe5n', 5677228336: 'B0DNqKT', 3114722: 'l5de', 2507778: 'MN8S', 16685653351848: 'w5hBhnPtlp', 12155: '3D', 15553505833944: 'vz4grrQ6ai', 819811723965: 'brocLHoIG', 105556065953: 'D7ZcOWYz', 10101: '18', 71575526633: '7bHDEkBR', 1880983: 'OWl9', 549230955: 'EMI1ni', 994548533056: 'TA7AFR0GX', 45424015: 'CirVs', 3480789: 'Sfxp', 10445931373241: 'B3xbLTvEyB', 178152: 'PcI', 36149295: 'CUjdY', 7177473784: '5JYaSsi', 2061059: 'cbHB', 5503574063: '4kXPqAR', 4976685493: 'CEwtlpF', 165308: 'jpB', 6957850848: '5X6weQh', 64893729836: 'iVRPgofG', 13549987771827: 'LV1Edoj5gZ', 3156374: 'e5we', 17444977809454: 'NSrbK0SUNx', 407720820: 'QDAWtK', 14137238447865: 'ilPM4cPI5b', 2766569: 'xURZ', 85802602314: '4cNYdKJc', 6640382541: 'FY0C8Tc', 97394528322: '6eUx51io', 5809362884: 'Re8Z4DW', 2430688: 'XYHO', 17610856995004: 'liumMxlNDz', 125528: 'eb1', 8367741913076: '2EnwRvkzg4', 511923633: '3AGyla', 285298: 'Cny', 16419: 'jY', 2344472: 'comI', 1158112907965: '9Voi1B8sd', 2655198: 'kglT', 5695029028: 'Vf64bCU', 421712200: 'TpVk0S', 1857674: 'P5d9', 16722392570156: 'Ty1r7x6UKs', 14625: 'bO', 673516219324: '3UnlfZvX8', 65261337843: '9pj5DplG', 9812965164964: 'gqTWS5ldHA', 315646695: 'tNw9h9', 140647: 'QU9', 15305623277789: '1prezl93Ji', 21385: 'ov', 8923784067796: 'nrp8SHwev7', 4806817704: '8lmTRiD', 66004771209: 'z3jzYEaI', 33773454: 'gM4VT', 16003: 'qV', 17331677929124: 'tTNkqsOfiu', 5343045669: 'srCtQIO', 17418299172222: 'QwlxTGbtVw', 6775358213: 'ugn88cd', 12219882985856: 'R66FIRrcuO', 2664298: 'iBLW', 38154909: '0US7b', 33498465: 'eexTS', 422590064: 'ZPbHOQ', 76258772811: 'iECczUgU', 17914: 'hb', 1713101: 'qvD6', 9386: 'H2', 179608: 'eCL', 7947712431139: 'Z3sVS7qeA4', 40181830: 'EAGXe', 12233: 'FC', 6662845280: '4xhycbb', 1228994420277: 'ulPrqlgQm', 395441228: '3j2dlI', 377149175: '3QbCWG', 1254546258225: 'mqAz9fyHp', 104883634713: 'PDCWs1xw', 8117810823720: 'lLQQKi3jD5', 19877: 'cn', 6758689704: 'KDv9f5g', 11288051145761: '3VBxgfE4UK', 43450264: 'jaWGo', 88451177347: 'I6DRauWe', 246792: 'yVi', 509839642: 'IlD0Ed', 1810913: 'nVs6', 1240474394653: 'TvZcCUPam', 185107: 'yUM', 100234819685: 'Zu3P1Ozq', 97435972686: 'BrUYYD4s', 74876537879: 'ChBYBfwR', 14982964747725: 'SC4M9VuC7h', 495236664: 'n8QE6b', 7957440212891: 'd0oFfPGgO3', 46173153: 'ZZBMv', 408770687: 'TvaEQN', 211770: 'vqW', 2338440: 'gXlI', 17054701526850: 'NhwudsoUPu', 8149695411: 'rqX3Ozx', 1350620851372: 'kAsteWwIy', 241605: 'ple', 45589086049: 'pGjAbZR1', 40246453: 'dDWYe', 1575353: 'caH1', 1179779664713: 'cyd4g5tof', 34717033: 'DpLuT', 12558: 'RD', 2753270: 'oHgX', 8659333352995: 'TAEg7QtYx5', 7604526410: '0cNW3Yr', 912246642190: '9HQgw9ZGP', 16996257753475: 'KbQ6ZotuUt', 1132952264444: 'gGb79O9ac', 12920277172296: 'e8TFcv6hiU', 38533807: 'dqTDb', 137657: 'ou5', 207207: 'BgV', 16417735794031: 'wcyOK3O0rn', 3437655: 'wupo', 401620219: '4c78sJ', 193713: '7fP', 7948059470: 'Wu3iAkv', 247741: 'M8l', 15526799713737: 'jMXShkoaNj', 45949836868: 'LkYqub04', 248898: 'Xrh', 284076: '3ux', 2671682: '1r2Y', 16055: 'uV', 15978066273156: 'BjxDr2BRzj', 17498769841566: 'ALFmPM61pv', 7554570556: '3Fvgaro', 6153711018: 'Qm29UoY', 609228247758: 'lVf67qw05', 302510741: 'zthih6', 43545372: 'tqZJo', 408179421: 'fseWNN', 239018: 'EFg', 21087261: 'WW1T2', 4815348070: 'YYjGwAG', 682203099435: 'msBfIb0u7', 66252189653: '2LfK9aVJ', 264927: 'cAs', 88763109201: 'kebx27Gg', 860799294433: 'lrE8eccUJ', 4809965966: '5R18juC', 4953276094: 'hMnZITH', 939047871164: 'ODXmdVIBS', 74504585415: 'NKwXNsIU', 80614928394: 'cYPZ3FmZ', 66484382978: 'f50TatXJ', 606811073518: 'CNt3G5UW2', 42052257: 'gCM1m', 3381586: 'znJp', 12126435611589: 'l1fw76S4pO', 265746: 'n8t', 3090633: 'rvGf', 285909: 'raz', 1275417433446: 'IiZSIFBLr', 551750615: 'bIfSKl', 3964529088: 'N3Y5hb7', 454406238: 'RsEScV', 374703654: 'SZYcAH', 623063428: 'febnzw', 1246137122516: 'MvXuDehsl', 3740841: 'CRnz', 17372119312561: '15naQbKq8y', 3255369: 'oiyh', 21671: 'xw', 20594704: 'w80P1', 73402036981: '1xVTc6pQ', 63498759571: 'j90RMGFH', 43121534274: 'UpBzhU80', 3557684: '9Aws', 11587435348554: 'nMD3cvQPHN', 2280993: 'AfQI', 589390997: 'qwaKpq', 298727923: 'sCssw4', 275555215: 'xWSVU2', 16903078012873: 't2K5laKGPt', 5590052286: 'nYWv90U', 359777145: 'Ys5cZC', 70739230289: 'wzRK44SP', 7051520996: 'y2AmDtg', 550393467: 'iLl0qi', 14524680804218: '0rAMYg58Nc', 64052064687: '3TE9JRAI', 420123522: 'AIkYTP', 522189707: 'ZoVfUe', 1651039: 'T4n1', 278603: 'Ulv', 14281045195859: '4SlwiizZ4c', 10361: 'R7', 5429084596: '3CgGyrM', 9776: '26', 11584044436471: 'tb2EhAF30P', 397352631: 'NheH2N', 562603548: 'BW1Mil', 3567967: 'QHTv', 15275: 'mR', 35728407: 'qJacX', 218673: 'MvZ', 9802: '46', 30349670: 'fbAlI', 610818546: '3IhThv', 395583526: '3M4OaJ', 414310884: 'qVI9aN', 367601806: 'cRDVpC', 449711535: 'uXvnGW', 69349434193: 'plKqfb9P', 537510675: 'HDRwVh', 22958208: 'mwOl5', 16645053126442: '41RhzlFCyo', 3426228: 'HvQq', 286793: 'ufz', 3152006: 'Z64j', 11934: 'IA', 1047319035295: 'AJjhgiDlZ', 8276982507274: 'duOLmUw1W5', 279227: 'kGy', 1208037007632: '66xjsRFni', 1341782900640: 'ejmeYMzXw', 120159: 'hO0', 3445130: 'zFjp', 22573148: 'ggW78', 3021447: '9MEd', 42823222: '2zcqj', 21202090: 'wrIc1', 245882: 'Zmg', 67145064519: 'Oi0fQocJ', 784096831557: 'DmZjHFKGD', 381339270: 'FEEVnF', 3365063: 'c5Gp', 15119: 'TS', 63762167716: 'ksAp8rGH', 852275751561: 'mWbXdr5AK', 857927235893: 'iA2wF49oH', 345131371: 'naFB5C', 10699: 'y6', 74920477957: 'pKJw4c7W', 365647126: 'TJYDRE', 239434: 'Xae', 1826162: 'WWS9', 1708668: 'Gyi3', 3035266: 'wLeb', 285978030: '0Q9YJ5', 47019652537: 'i3FCM2l1', 198744: 'hfR', 4870136063: '600zkMG', 21838063: 'EbNy1', 2440087: 'zZsL', 15522: '2X', 77041747640: '7DESdPZW', 209872: 'ftV', 18642: '8j', 363070318: 'vpSRWD', 1725906: 'nZ28', 3558815: 'iQOv', 3696121: 'Htdy', 581030263281: 'PP5ih4ZQ0', 94143555727: '36k8gdrj', 911197687686: 'hWyoXYaEP', 2508922: '0J9S', 46800832: '42yRw', 33279337: 'PjHPS', 40518426: 'hhuFg', 22051354: 'zRbX4', 20826689: 's3s93', 656625310939: 'T2h7e1cy4', 11219: 'z9', 5231096013: '2GKFycK', 16434212138279: 'zUANlltuTp', 30619784: 'jTbfJ', 18369: '0i', 8064527120: 'FxrzAOz', 20496424: 'c0lH1', 16274725536290: 'yDYBUKphSo', 8076879382: 'qRT2ARz', 7902436789: '4yUAeEx', 42285672: 'vyrCl', 7987639020049: 'lNoo5d9fE4', 495858376: 'Doq19b', 1187514193749: 'IjjyZFEUi', 68834504063: 'XWrIFodL', 186225: 'gCO', 89866672142: 'TzxyaUVg', 91258420682: 'tuDuYKFj', 970953954490: 'bXEs2zHBV', 3465739472: 'jpG1dI1', 217269: 'VzY', 33775768: 'Vit7V', 597274712359: 'Iy6BWhoV1', 4444220729: 'OE5Qk6B', 5776677894: 'uGBL8JV', 3052075: 'cVlb', 1838421: 'Dmd8', 6879913469: 'wtwYXBh', 11434771795759: 'HrJU6m63pJ', 301528071: 'eXKIN8', 8856339404315: 'G6sk6fyFX9', 1321944725764: 'pqdsXetts', 10776634036688: 'fOb5fcmUVG', 1571713: 'vq82', 12567106925958: 'UwBlZKnzzQ', 46319550667: 'aRWGYVD3', 102470134182: 'gFXlJUvt', 15470: 'oS', 94470708696: 'yqzEc3nk', 15613: 'mT', 14792890949122: '7ZfcnjLncc', 5322058729: 'KaT87TN', 21613878: 'e89Y3', 851575987080: 'Cs0SK1VeH', 267020: 'usp', 613171026: 'gv5v8z', 266656: 'Lgq', 96934568055: 'ePwkYQRp', 3819243311: '2tI2M98', 89407080711: 'oKgVnP5i', 356509478: 'o9hHSC', 7174443250: '3loPLfj', 3211494: 'tBhh', 2482051: 'W7UP', 169754: 'GYF', 10322: 'O7', 7514366652: 'AfkJRQq', 21263151: 'TefI3', 17298069705020: 'UPqR4V5s1y', 2460627: 'gmTO', 1237231150376: 'gN6sjVjNn', 9716442475896: 'gE57mqI16B', 10892996416861: 'eA45SCQ00K', 3511443: 'Xeyq', 3813333511: 'pcX2W78', 69973149298: 'oleFEWQO', 3452358: 'P3Ur', 6883379984: 'vX0II7i', 1087043247771: 'JZwKh6x1b', 33580001: 'kYPMT', 60700615729: 'uhI3F3iB', 21177: 'yt', 383848621: 'clgjYH', 21303438: '28Ht0', 16987722632010: 'Glsmy8eR0w', 186745: '4dM', 31550532: 'H8EUN', 919851099271: 'sbDuoVi5R', 46452055: '7v0rt', 237809: '6tc', 5782624445: '0oB2J0X', 1012601963204: 'ZuWMUM2wV', 16670512672099: 'CJI48aq8bq', 5449664142: 'FwPAcDQ', 47581759355: 'gtg2G246', 195832: 'eoP', 7304347622: 'LQuN1Bo', 455270179: '9D2sVW', 9009393988400: '4sgXb1D6h9', 307424338: 'tGllN9', 1217653628893: 'H9LK9gO8n', 6801889354: '49J4Yfd', 1627821: '5pE3', 6755847917: 'GXnXvMe', 427255634: 'fJtNuO', 2462655: 'tkbN', 5245156436: 'cAiih3O', 13519766051376: 'I3UkQN8ozX', 5914620920: '3fWkWqU', 29346421: 'ateSH', 27827384: 'iTXSD', 20605: 'Zs', 232037: 'u3e', 23035948: 'zTAp5', 2707380: 'AMEY', 300350973: 'WiTza6', 874857638707: 'zthEDsefJ', 4816414993: 'uy8ImvC', 13013: 'AH', 259896: 'LYo', 3673228: 'Botw', 253877: 'xLm', 361706332: 'jsIqQD', 196807: 'U5U', 66003735928: 'G4M1iQSJ', 24095175: 'Ag4b9', 1143952112433: 'LMKwMkWyb', 3456154: 'I0Js', 229372: 'xWa', 5619172351: 'HUlFqfQ', 18122: 'Qe', 12389: 'lA', 12857: 'vC', 8233931446: 'L8n0Uqz', 5815522609: 'zDjQyMV', 101178374999: 'az9SDhSu', 273635141: 'srhl44', 97084130819: 'H7Zx1sym', 16976626897672: 'W0qznUAG0w', 91495924325: 'Z1EqiGJj', 993854565067: 'hCadz34zT', 21125: 'Ax', 8590221788018: 'Awh6DKQbJ8', 605102576: 'pHLxcu', 396187896: 'BZBVoI', 7658721083: 'xr9rhzp', 43523116: '7tjUn', 19838: 'zl', 5515657147: 'oqX0FaP', 68181821240: 'QpzWitLM', 45497153: 'Z7IOt', 39272597: 'DPbja', 44715125: 'HSBuo', 243737: '7Ii', 6280339923: '0eoOpzZ', 597303109: 'gUWjBv', 21554: 'Hz', 1240822426571: 'gErYyen8p', 5493590830: 'VuwvmLQ', 3750499805: 'of1LUk3', 3037294: 'jLfb', 1322537053643: 'l8iPqBL7x', 634228723271: 'inLLVZti3', 124072: 'Ci0', 48236435: 'dNmky', 3445897: '36Es', 53715379731: 'ImiaMUy8', 288951: '1xz', 58346919085: 'tuvaT86C', 1144847670954: 'dWdNdSMnc', 549099200: 'def7mi', 89572996786: 'nCjTfL8i', 2981199: 'DbXa', 22376107: 'N9ic4', 1293778894031: 'F6ND1CcFt', 3754907: '91wz', 15223: 'vQ', 14390389521781: 'dmZypIcSYa', 9841: 'x1', 179959: 'Y9M', 216515: '6xY', 452647481: 'T8OVQW', 15359118766381: 'zuTfFj4Auf', 237510: 'zmc', 13650: '1M', 983971728610: 'KLLa3fIEW', 199784: 'w7V', 902658395626: 'piYZ1AjaM', 15951: 'zU', 2448446: 'fYCP', 11546539194632: 'A2mGeyiw4O', 198835: 'b3V', 13286: 'cG', 678772304028: '2labfq9V9', 1232220960997: 'ZbFs6BPJn', 282716226: 'BGxdZ3', 3575806: 'IwTv', 252239: 'oPl', 245622: 'mwf', 7970468519: 'VYJyUaw', 42958955: 'hfGkk', 31220761: 'DxmzJ', 285114986: 'M7ETb3', 19836453: 'nxX21', 355126070: 'JgyJOC', 7881516259669: 'IG1nuBaI05', 3196752: 'dTSi', 105438074924: 'Tpm0Mfcy', 35884277: 'N2BxW', 20722: 'Vt', 161785: 'yZB', 202605: 'sbT', 46064242120: 'AdULgTM2', 17999987662306: 'H9pnbUodgz', 11227357742978: '54bOgV4FuH', 3523715: 'zCMu', 178542: 'GsH', 99829908997: 'dlZmqQ2v', 303164251: 'RpMAm6', 21372: 'aw', 188734: 'elM', 2492230: 'MMXP', 179803: 'tjI', 34036496: 'FsA7W', 175500: 'alG', 277134: 'L0z', 43619433: 'CqU3q', 16389921043067: 'ZBeARIsLFq', 446083573: 'K0EhXU', 1640964: 'Las0', 17717939471427: 'wA94DLY7ww', 2405975: 'HqUM', 1718210: 'MIW5', 9737: 'c2', 264433: 'Wfp', 7197220797: 'R0mHcBm', 7378459393643: 'RWaXqiH861', 7808382101: '91LX6it', 841229857442: 'jrZuOfpII', 27907035: 'zpFdC', 2960607: 'mMCb', 8103991672179: 's4aPX1EXx1', 1042057813043: 'zP5y2bsbZ', 3694015: '5Osx', 1593410: 'aJE2', 6607401775: 'ZAO6oca', 5886372843: 'U5gvr5Y', 4037259967: '7dvXYr7', 4592455374: 'P0lCAeA', 284778: 'Bky', 982428054868: 'pIbrA6AxS', 461063408: 'LhTksV', 14950: 'GS', 75862624422: 'e4A0czkT', 3113110: '1Jbe', 5133737375: 'kXf4kwH', 5641629903: 'nxmYxwP', 361739339: 'nsrUzA', 18720: 'eg', 103165051535: 'ZRq1AWtu', 4131559861: '1s0Cbk9', 3542552: 'Luyr', 16648547874361: 'eStPHEMajp', 92728031539: 'wOIvRDxh', 428456106: '7mX9SR', 248196: 'Ioh', 74980590282: '2QSNJGnS', 385266583: 'ZKeAFJ', 35111856: 'GEMBY', 596800628398: 'vBGPSnZd0', 3064399: 'oPKe', 5409427439: '9YbUjUO', 6683228175: 'sTLzY3f', 1242535266076: 'tXg59GXcm', 16650798392189: 'y1ArcAWpBs', 960723916022: 'oVxia597V', 7177308372: 'yAB6VLl', 33336979: 'QzTxP', 13741: 'RK', 5666487463: 'Vds1VKT', 72907779399: 'qb9nixVR', 165724: 'p1G', 2476201: 'OIkN', 3694405: 'Fwpx', 3583294: '3Wtt', 604312878: 'YQCjHw', 10647: 'h7', 530136139: '7qLRRg', 6082920116: 'CsQHKnX', 16673289249682: 'yn5Q9WwoDs', 63478206402: 'eRMXVBSG', 517116509: 'uDxhac', 245258: 'QPi', 171093: 'zCH', 898287275132: 'Eydjiua5P', 9711: 'n1', 171171: 'YSG', 1225066293542: 'UQ0mZfjLm', 3043053: 'D0kb', 35223955: 'rOrPX', 1327663042511: 'mYhZp17fu', 467386270: 'xdL8TZ', 12900005489904: 'mgDZW5q1xT', 13533: 'BK', 3825629509: 'hSzeMn4', 7925777314: 'p1wJUru', 935542830365: 'dk8GrdQdP', 15960434012614: 'n4BK1x5Wkk', 3528726097: 'BQh7qU1', 188604: '4bN', 611880698: 'YYOTQx', 42884218: 'e2wrj', 40088984: 'tTvDf', 2326038: 'o5vH', 98990963773: 'eYxJOBtp', 7331423515: 'D8jAGFo', 8348589463838: '24ivmqXqs3', 2504099: 'PlAR', 1313728055289: 'qoDjUfswr', 14994808299900: '171Oiv8pvc', 96445084307: '7N48Kbcn', 2223520: 'gGzD', 13351734956963: 'r1fU8yvRyW', 44697276: 'gBUfp', 93952113047: '4Z5Axbbk', 77137849880: 'baghGL5Z', 3366594166: 'biPWgA0', 14949596045436: 'LMtt3LPQMf', 40908738: 'bWeUg', 554549918: 'TfJOSl', 8835833978907: 'ycc77vB1r7', 3380117: 'd3hn', 47532708275: 'YcpJCBL4', 1230968968060: '0NeWZtRok', 94731233571: 'I5a6WjTm', 606324975763: 'BKyWUQeo0', 7973992962: 'lZvUGVx', 1283318406747: 'ZG6x892dq', 15694243183203: 'R4DTEZtQRk', 44727579: 'Dvy0t', 397690553: 'UKKVLL', 14573: 'xM', 37835603: 'Rhv6a', 695737539328: 'UqGAfikg9', 456192555: 'x0DxeV', 171964: 'UKH', 2123043: 'S24F', 17558026263362: 'KyjgJyoNsv', 7825092355470: 'hsri8QxPk0', 3087097: 'YVUe', 281431267: 'XT6pp1', 7768219888: 'wtDpWDv', 34866702: 'fUkkU', 1000062442691: 'df8HdAbWW', 665985452925: 'hSzWKBAS8', 39061022: 'lcAKc', 13455: 'IJ', 620380262710: 'GzdXGyXt1', 5862075323: 'xG53w0Y', 232843: '1qa', 773118272966: 'vAyo4UxPB', 10896177651632: 'w7tWDtf20K', 16355513525325: 'zA32N814Eq', 1189984532048: 'hlocLfjUi', 76775362352: 'MbDtyKcV', 19032: 'ci', 20891: 'Iv', 268073: 'DVs', 1154189786594: 'Tn4RwCT8h', 5896029178: 'Vyc5w7Y', 2554799: 'PmKS', 309090730: 'D7e2d8', 6008962193: 'RVMzwNY', 12942717787701: 'yzm8fqqekU', 1109592405922: 'AC4cUcI6d', 1259663232347: 'XwnVJ8sOp', 13026: 'vD', 10647009802260: 'oCs7XgaFKG', 6755966399: 'oaUk48g', 1271656837399: 'NiuYnxwPq', 15756: 'xT', 170157: 'Y3I', 6849021712: 'JyHtDde', 578897345: 'ONRpko', 106445753635: '94zIUffz', 6715049380: 'u96xTnb', 97447081836: 'dOJfOa2s', 15847: 'eV', 28655965: 'ZddbE', 393789409: 'Yv3kgI', 8029297906383: 'lleBBbGqH4', 1562210: '2KQ0', 2262286: 'ERJI', 14659104122520: 'hXw0EyKfJd', 2546856: 'jcbQ', 4811179490: 'WTxwu3H', 444360670: 'OTX7WU', 10192: '88', 7584300737: 'jxqNX8t', 12524935221552: 'vxaaAL1KST', 11990303000026: 'WPUU4WExkN', 546315783: '1jmqai', 14534: 'hN', 995840422928: '7ddPMfwPW', 409795724: '1Lph7P', 7552172979: 'O3Qdupo', 898465921782: 'iNflBBu4P', 2644746: 'SEwS', 50383131175: 'HdLMdRQ7', 15379: 'AV', 14592586661354: 'kNuL8ykmPc', 825129843447: 'PrWN1nYQG', 452869313: '5GruBX', 706658938466: 'vUj8UkVv9', 30977037: 'BltWL', 7965721745904: 'I7NjSkabj1', 203437: 'euS', 859820931112: 'QOEyJCVoH', 280332: 'ehw', 352261741: 'NwtNGC', 5614249576: 'WeYDJAT', 2710123: 'kMzU', 46235631: 'IaQht', 15875471982721: 'XRBlnY5qnj', 133198: 'jA7', 12469669534517: 'G8oYEBvjrQ', 11712722277165: '8FMuJsffRN', 317731817: 'Z7lBm9', 464211605: 'x04tGZ', 79333207759: 'YBdXFfpX', 361979540: 'eQ9o8F', 2672319: 'ULBX', 6630533598: 'VYYmuZb', 12255413736202: 'cFSLJo68UR', 16385776937725: 'UJidbTJ0Hq', 458985293: '8DZVoV', 91937728116: 'orWnIqhh', 5527310347: '9CO61KR', 2411604: 'su0P', 60359462748: '8B67dEoA', 2289482: '7KJJ', 48450408318: 'VVMUQVL5', 3617796: '598z', 3970759598: '3AMg4Z8', 72175091560: 'dtsrQqrO', 5879080688: 'JNGc98Y', 791030298214: 'Cp2QPYPvA', 13357550225864: 'glQLwpktPZ', 15899: 'OX', 11244679359771: 'NDmPoIRfZJ', 296422035: 'bdZrJ7', 610047588878: 'ptOucnwX2', 3087370: 'GfTe', 947539816236: 'XhCXPvLLS', 19981: 'Qp', 3374111: 'jPVo', 41952352: 'eJ9Vj', 376949820: 'lPoHVG', 255593: '9hl', 40363934: 'LLKDg', 15808: 'bV', 42411200: 'YcEKl', 160849: '1gA', 49093232214: 'yOhJTLq3', 1844440: 'Lvs7', 122473: '0G2', 899618874180: 'cgXVOSyON', 4796606633: 'eyrt4vC', 7385896076: 'Bm5NqAp', 2718391: 'jqTX', 14651: 'qN', 65603191758: 'cWoeXZYI', 212836: 'zjX', 3645122: '1fuv', 813628621260: 'N3lrKuWPF', 197964: 'FJT', 884939276845: 'tkxN2I9OM', 4368948818: 'POUEW5A', 132093: 'VI6', 1218286673903: '4CT0JM4oj', 74149997922: 'j9wrm4HU', 16116929353499: 'JXKP2QCm7p', 47145046: 'eQwDy', 9922379883312: 'Y8QFVeCkEB', 298639120: 'F42An5', 538399927: '95o9Cj', 34501766: 'GcSFW', 2440555: 'wCuL', 5360787315: 'NFIJwqL', 3830437169: 'WKK4xE7', 144261: 'pu8', 1120234925264: 'klZXGlpZb', 194805: '0mP', 105597924770: 'HgDGZ8vx', 46570977960: 't9unqGc1', 107715237643: 'OhDhFjzz', 321729954: 'H6EOw9', 3465154693: 'gTjhxG1', 17875: 'Kd', 274495: '7Iw', 1166830576678: 'ZNSGvV2qe', 46474753: 'U72Yv', 62036155935: '1icK38JF', 20081490: 'SgGI0', 3454204: 'iIaq', 53914419624: 'nSPJ82r9', 5843421818: 'awqlZUV', 16966381878316: 'F3OK7IUSHu', 104310098360: 'tdfXuImw', 18291: 'Dg', 198302: 'S1V', 584640420: 'etwsFs', 1182100243831: '4VfuygT3k', 1225850025205: '4Hz1VS7xj', 930805844709: 'eeRD9UHyN', 846377333009: 'n8qHX2DzF', 160836: 'WJC', 192062: 'afO', 34511412: 'oeq7X', 15990: 'VX', 4850580592: 'yyo8bqD', 2133326: 'DphB', 45924580: 'BtQ6w', 1768078: 'A9H8', 1272138821915: 'mgVjDCiRq', 6819453147: 'KWGRlAg', 8052203120: 'yTTFeJz', 9836757636420: 'dND2Yk674C', 17849: 'pa', 10777: 'X9', 92542777405: 'Lt6D7Guh', 860400987264: '6PdSiQ7KK', 266292: 'qUr', 36319101: 'M18aZ', 7710153035: '8xjhd7v', 425801818: '9D5GKR', 626215536232: 'wAjLTQPU4', 7758850359: 'wQFSt3w', 2391519: 'hZCN', 8748920873979: 'gImtHfpyJ9', 232245: 'QQc', 264615: 'eYq', 981235112468: 'sIRMv2U4X', 3486015: 'Rkzp', 4014956153: 'u9SMRn7', 12961: '0I', 2673684: 'cFPW', 32589024: 'TZGyN', 100474232235: '7doVyGWt', 18824: 'Fj', 73603071269: '1xmejE1V', 3552328: '0c1x', 11330656460955: 'JCWVZZVM0N', 1089508391283: 'WqHzGpg5b', 10023: '87', 811732675221: 'SnIc5tSAG', 34666125: 'NFEtT', 11899324307338: 'ARIo7XrmcN', 1014060028878: 'Gk0C0FWOY', 90713197341: 'EOJbhuGi', 18850: 'Ui', 10950748358290: 'fudUApeN3K', 258622: 'Eyl', 142350: 'Ez7', 72453855851: 'oZybiAFS', 4923886227: 'GskXHhF', 3696381: 'v1vx', 89667028308: 'uik0Hble', 12492677998684: '2Pdmho4JCU', 3511859: 'D5Iu', 563878276: '2Ab5Go', 1614652: 'jR44', 1612377: 'dyd0'}\n"
     ]
    }
   ],
   "source": [
    "print(D)"
   ]
  },
  {
   "cell_type": "markdown",
   "metadata": {},
   "source": [
    "## Assignment: Code the Karp Rabin Algorithm"
   ]
  },
  {
   "cell_type": "markdown",
   "metadata": {},
   "source": [
    "example: 'This session is organized by Axis India Machine Learning'.\n",
    "Search 'nized by A' int the example string"
   ]
  },
  {
   "cell_type": "code",
   "execution_count": 26,
   "metadata": {
    "collapsed": true
   },
   "outputs": [
    {
     "name": "stdout",
     "output_type": "stream",
     "text": [
      "{'A': 65, 'B': 66, 'C': 67, 'D': 68, 'E': 69, 'F': 70, 'G': 71, 'H': 72, 'I': 73, 'J': 74, 'K': 75, 'L': 76, 'M': 77, 'N': 78, 'O': 79, 'P': 80, 'Q': 81, 'R': 82, 'S': 83, 'T': 84, 'U': 85, 'V': 86, 'W': 87, 'X': 88, 'Y': 89, 'Z': 90, 'a': 97, 'b': 98, 'c': 99, 'd': 100, 'e': 101, 'f': 102, 'g': 103, 'h': 104, 'i': 105, 'j': 106, 'k': 107, 'l': 108, 'm': 109, 'n': 110, 'o': 111, 'p': 112, 'q': 113, 'r': 114, 's': 115, 't': 116, 'u': 117, 'v': 118, 'w': 119, 'x': 120, 'y': 121, 'z': 122, '0': 48, '1': 49, '2': 50, '3': 51, '4': 52, '5': 53, '6': 54, '7': 55, '8': 56, '9': 57, ' ': 32}\n",
      "{1092: 'T', 1352: 'h', 1365: 'i', 1495: 's', 416: ' ', 1261: 'a', 1287: 'c', 1404: 'l', 1326: 'f', 1443: 'o', 1482: 'r', 1001: 'M', 1430: 'n', 1313: 'e', 988: 'L', 1339: 'g'}\n",
      "{'T': 1092, 'Th': 18668, 'Thi': 249353, 'This': 3533868, 'This ': 15415244, 'This i': 522230189, 'This is': 7738309644, 'This is ': 33841692716, 'This is a': 1062478131897, 'This is a ': 5473949871065, 'This is a c': 182897828880728, 'This is a cl': 2699091022108676, 'This is a cla': 32077976361557217, 'This is a clas': 484876260716975452, 'This is a class': 6371253957337412507, 'This is a class ': 27664585451199167419, 'This is a class f': 910007009228095636585, 'This is a class fo': 13392557180895366273904, 'This is a class for': 180051470283696222891082, 'This is a class for ': 788210311079881804932714, 'This is a class for M': 19812179049735562043172515, 'This is a class for Ma': 331360550211356507243437308, 'This is a class for Mac': 4464997186139255027580971211, 'This is a class for Mach': 60916277305073788355826888755, 'This is a class for Machi': 801839328866089538289054556520, 'This is a class for Machin': 10892505650125637370713012317510, 'This is a class for Machine': 131338368193887331043191708137327, 'This is a class for Machine ': 627432217879084009931816831513999, 'This is a class for Machine L': 15944329826909531470618117515768747, 'This is a class for Machine Le': 280563889835553972469053812231906696, 'This is a class for Machine Lea': 3584378396478134567508929169034381485, 'This is a class for Machine Lear': 54061214467037974174200633073995903519, 'This is a class for Machine Learn': 687235561667920172749368497846758855349, 'This is a class for Machine Learni': 8544353597387958364159406092526953666694, 'This is a class for Machine Learnin': 115550818274337049923362775239123892525964, 'This is a class for Machine Learning': 1418111329205562809903120150578153902821987}\n",
      "97860354986724968147500832450156734934748874521804\n"
     ]
    }
   ],
   "source": [
    "import random\n",
    "Alphabets = \"ABCDEFGHIJKLMNOPQRSTUVWXYZabcdefghijklmnopqrstuvwxyz0123456789 \"\n",
    "\n",
    "Asciival = {}\n",
    "\n",
    "Asc = 65\n",
    "for char in Alphabets[0:26]:\n",
    "    Asciival[char] = Asc\n",
    "    Asc += 1\n",
    "\n",
    "Asc = 97    \n",
    "for char in Alphabets[26:52]:\n",
    "    Asciival[char] = Asc\n",
    "    Asc += 1\n",
    "    \n",
    "Asc = 48\n",
    "for char in Alphabets[52:62]:\n",
    "    Asciival[char] = Asc\n",
    "    Asc += 1    \n",
    "\n",
    "Asc = 32\n",
    "for char in Alphabets[62:]:\n",
    "    Asciival[char] = Asc\n",
    "    Asc += 1\n",
    "\n",
    "print(Asciival)\n",
    "Primeno = 13\n",
    "\n",
    "String = \"This is a class for Machine Learning\"\n",
    "Blklist = []\n",
    "for string in String:    \n",
    "    Hashvalue = 0\n",
    "    Power = 1\n",
    "\n",
    "    for i in string:\n",
    "        Hashvalue += Asciival[i] * Primeno**Power\n",
    "        Power += 1\n",
    "    \n",
    "    Blklist.append(Hashvalue)\n",
    "    \n",
    "D = {}\n",
    "for string, Hashval in zip(String, Blklist):\n",
    "    D[Hashval] = string\n",
    "\n",
    "print(D)\n",
    "\n",
    "Word = \"This is\"\n",
    "WordHash = 0\n",
    "StringHash = 0\n",
    "HashList = {}\n",
    "Power = 1\n",
    "j=\"\"\n",
    "for i in String:\n",
    "    StringHash += Asciival[i] * Primeno**Power\n",
    "    Power+=1\n",
    "    j+=str(i)\n",
    "    HashList[j] = StringHash\n",
    "print(HashList)\n",
    "\n",
    "for i in Word:\n",
    "    WordHash += Asciival[i] * Primeno**Power\n",
    "    Power +=1\n",
    "print(WordHash) "
   ]
  },
  {
   "cell_type": "markdown",
   "metadata": {},
   "source": [
    "### Helping Code"
   ]
  },
  {
   "cell_type": "code",
   "execution_count": 54,
   "metadata": {},
   "outputs": [],
   "source": [
    "def HashValue(string):\n",
    "    Hashvalue = 0\n",
    "    Power = 1\n",
    "    Primeno = 13\n",
    "\n",
    "    for i in string:\n",
    "        Hashvalue += Asciival[i] * Primeno**Power\n",
    "        Power += 1\n",
    "    \n",
    "    return Hashvalue"
   ]
  },
  {
   "cell_type": "code",
   "execution_count": 55,
   "metadata": {},
   "outputs": [],
   "source": [
    "String2Search = \"This is\"\n",
    "SuperString = \"The Revant the Gupta is love is the Axis the IndiaThis is\""
   ]
  },
  {
   "cell_type": "code",
   "execution_count": 56,
   "metadata": {},
   "outputs": [],
   "source": [
    "L = len(String2Search)"
   ]
  },
  {
   "cell_type": "code",
   "execution_count": 57,
   "metadata": {},
   "outputs": [],
   "source": [
    "SlicedOutString = SuperString[0:7]"
   ]
  },
  {
   "cell_type": "code",
   "execution_count": 58,
   "metadata": {},
   "outputs": [
    {
     "data": {
      "text/plain": [
       "'The Rev'"
      ]
     },
     "execution_count": 58,
     "metadata": {},
     "output_type": "execute_result"
    }
   ],
   "source": [
    "SlicedOutString"
   ]
  },
  {
   "cell_type": "code",
   "execution_count": 61,
   "metadata": {},
   "outputs": [],
   "source": [
    "Hashvaluesubstring = HashValue(String2Search)\n",
    "Hashvalueslicedoutstring = HashValue(SlicedOutString)"
   ]
  },
  {
   "cell_type": "code",
   "execution_count": 65,
   "metadata": {},
   "outputs": [
    {
     "ename": "SyntaxError",
     "evalue": "invalid syntax (<ipython-input-65-2a67c9722a42>, line 6)",
     "output_type": "error",
     "traceback": [
      "\u001b[0;36m  File \u001b[0;32m\"<ipython-input-65-2a67c9722a42>\"\u001b[0;36m, line \u001b[0;32m6\u001b[0m\n\u001b[0;31m    UpdatedHashvalue = UpdatedHashvalue + Asciival[SuperString[i+6]] * Primeno** ..\u001b[0m\n\u001b[0m                                                                                 ^\u001b[0m\n\u001b[0;31mSyntaxError\u001b[0m\u001b[0;31m:\u001b[0m invalid syntax\n"
     ]
    }
   ],
   "source": [
    "for i in range(0, len(SuperString)):\n",
    "    if Hashvaluesubstring == Hashvalueslicedoutstring:\n",
    "        print(\"The substring has been found at location number: \" + str(i))\n",
    "    UpdatedHashvalue = Hashvalueslicedoutstring - Asciival[SuperString[i]] * Primeno\n",
    "    UpdatedHashvalue = UpdatedHashvalue/Primeno\n",
    "    UpdatedHashvalue = UpdatedHashvalue + Asciival[SuperString[i+6]] * Primeno** ..\n",
    "    Hashvalueslicedoutstring = UpdatedHashvalue"
   ]
  },
  {
   "cell_type": "code",
   "execution_count": null,
   "metadata": {},
   "outputs": [],
   "source": []
  }
 ],
 "metadata": {
  "kernelspec": {
   "display_name": "Python 3",
   "language": "python",
   "name": "python3"
  },
  "language_info": {
   "codemirror_mode": {
    "name": "ipython",
    "version": 3
   },
   "file_extension": ".py",
   "mimetype": "text/x-python",
   "name": "python",
   "nbconvert_exporter": "python",
   "pygments_lexer": "ipython3",
   "version": "3.6.5"
  }
 },
 "nbformat": 4,
 "nbformat_minor": 2
}

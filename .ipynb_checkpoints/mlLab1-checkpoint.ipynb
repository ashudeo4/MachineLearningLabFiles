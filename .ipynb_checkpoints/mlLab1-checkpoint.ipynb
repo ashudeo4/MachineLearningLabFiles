{
 "cells": [
  {
   "cell_type": "markdown",
   "metadata": {},
   "source": [
    "### You have to generate 1000 random strings of random lengths between (2,10). Calculate their hash value and sort them in ascending order according to their hash value. (Karp Rabin Algorithm is based on this)"
   ]
  },
  {
   "cell_type": "code",
   "execution_count": 57,
   "metadata": {},
   "outputs": [],
   "source": [
    "from random import * \n",
    "import string\n",
    "\n",
    "# attempted solution\n",
    "arr = []\n",
    "for i in range(1000):\n",
    "    hashv = 0\n",
    "    allchar = string.ascii_letters + string.punctuation + string.digits\n",
    "    st = \"\".join(choice(allchar) for x in range(randint(2, 10)))\n",
    "    for j in range(len(st)):\n",
    "        j+=1\n",
    "        hashv = hashv + j*(13**j)\n",
    "        arr.append(hashv)\n",
    "    arr.sort()\n",
    "    \n",
    "# print(arr)"
   ]
  },
  {
   "cell_type": "markdown",
   "metadata": {},
   "source": [
    "## Taught solution"
   ]
  },
  {
   "cell_type": "code",
   "execution_count": 61,
   "metadata": {},
   "outputs": [],
   "source": [
    "import random\n",
    "Alphabets = \"ABCDEFGHIJKLMNOPQRSTUVWXYZabcdefghijklmnopqrstuvwxyz0123456789\""
   ]
  },
  {
   "cell_type": "code",
   "execution_count": 62,
   "metadata": {},
   "outputs": [
    {
     "name": "stdout",
     "output_type": "stream",
     "text": [
      "9\n"
     ]
    }
   ],
   "source": [
    "print(Alphabets[61])"
   ]
  },
  {
   "cell_type": "code",
   "execution_count": 79,
   "metadata": {},
   "outputs": [],
   "source": [
    "Strings = []\n",
    "for j in range(1000):\n",
    "    Length = random.randint(2,10)\n",
    "    Blkstr = \"\"\n",
    "\n",
    "    for i in range(0, Length):\n",
    "        Randno = random.randint(0,61)\n",
    "        Blkstr += Alphabets[Randno]\n",
    "        \n",
    "    Strings.append(Blkstr)"
   ]
  },
  {
   "cell_type": "code",
   "execution_count": 85,
   "metadata": {
    "collapsed": true
   },
   "outputs": [
    {
     "name": "stdout",
     "output_type": "stream",
     "text": [
      "['tQHm2k', 'M57u0wc78', 'vMHtBMFH', 'd8Cak3EfmK', 'Zq', '3lObaDDq', 'vnBv3K', 'nz', 'tOoWh', 'rbWCv8cM5', 'qcx1', '43', 'XZ2', 'Z9cmNJIOZ', 'Q6BBj', '812Bo0CW6', 'DTVkZvS2ss', '5fqWwB90', 'VEWQsHiug', '9OU', '0McfdkHN', '9O2gBaN', 'fSXgZF', 'qPhF', '1xvUI', 'BPuAmR3Ma2', 'jzq', 'F9Rs1wZn', 'PC', '7nab5u', 'Hp2vw9vFx', 'PHXlHNlKu', 'PRkXXd1U', 'bmkI', 'f2cqL', 'q92cvLrs', 'yLv8P', 'GKXKer9', 'MEYo0dk', '3qqeD', 'UKvwCfG', 'zdm7SpwgF2', 'OTAZ2N1cc', 'Zz2yyKX', '5en48Y', 'xNn4VcFv', 'F8FdpL', 'k8lX4I', 'LTTui', '5CbfQObx0W', 'QRd', 'i1V', 'P3l0', '4sv', 'sxKouAIpo', 'nFXyZ2eLkN', 'q89P3KUoC', 'IXPP', 'NAMYcYO4JL', '6NcEEnya', 'opu', 'BU7P2e', '1I', 'SW', 'Tf', 'NI4', 'vAda45u', 'C6FdxxM', 'sCeaS5', 'UGtXopWRn', '4j', 'EBqEs8KZ', 'CjIYsGFaf3', 'Ut', 'fiZJNx', 'krZTay', 'vq6vjJglcR', 'Xd4x', 'XMzBml', 'iiClExqF', '6XrFhqJd', 'ma163ZsE', 'qLwzXmSvQ', 'RoGfHxL', 'Am', '3qZ05', '7Jw', 'yv', '62s24bBE5c', 'jy', 'Ye', 'QQt', 'Xik9spXZ', 'NUNliDF4', 'Bl9XS', 'mI3f5', 'Le', 'phLffr', 'SNo', 'rTb', 'Jc5WDtzf6D', 'Et9', 'f73O', 'A6VaaZHjcu', '4m3vLZYKz', 'EBArPRDXTY', '2tQvtoX', 't4Go', '3UzQ3h', 'uGomfjgc', 'Dcx8', 'PpjxXbFh', 'h40Bqo0Y', 'Eaux', 'azQY', 'ge', 'ov3I1LW', 'YGnwNBc2', 'cejKJm45Tp', 'ALb', 'cDS', 'JIa', 'kxnqe', '8rx', 'rvpo3RoR', 'A9n', 'DifaFIrpf', 'OQP0S2', 'bXu', 'hdPaSb', 'T6y', 'rFM77UdZGb', 'sf', 'KHlg38z5', 'XEB', 'Nza3UgjO5F', '4HCAmSi', 'qkHy', '0wrvARI', 'KxHxehKELr', '3O', '3oppRLwU', 'g3NrqR', 'ZIZS8zkPb', 'JP', 'qs8R6iVEZ', 'zk39', 'LMFPRI9f', '029sU69rB', 'TFOON6P1s7', 'LkbK4o', 'jakNHvc', 'kCFt6DAcyR', 'WEYe5n', 'B0DNqKT', 'l5de', 'MN8S', 'w5hBhnPtlp', '3D', 'vz4grrQ6ai', 'brocLHoIG', 'D7ZcOWYz', '18', '7bHDEkBR', 'OWl9', 'EMI1ni', 'TA7AFR0GX', 'CirVs', 'Sfxp', 'B3xbLTvEyB', 'wmH', 'CUjdY', '5JYaSsi', 'cbHB', '4kXPqAR', 'CEwtlpF', 'jpB', '5X6weQh', 'iVRPgofG', 'LV1Edoj5gZ', 'e5we', 'NSrbK0SUNx', 'QDAWtK', 'ilPM4cPI5b', 'xURZ', '4cNYdKJc', 'FY0C8Tc', '6eUx51io', 'Re8Z4DW', 'XYHO', 'liumMxlNDz', 'eb1', '2EnwRvkzg4', '3AGyla', 'Cny', 'jY', 'comI', '9Voi1B8sd', 'kglT', 'Vf64bCU', 'TpVk0S', 'P5d9', 'Ty1r7x6UKs', 'bO', '3UnlfZvX8', '9pj5DplG', 'gqTWS5ldHA', 'tNw9h9', 'QU9', '1prezl93Ji', 'ov', 'nrp8SHwev7', '8lmTRiD', 'z3jzYEaI', 'gM4VT', 'qV', 'tTNkqsOfiu', 'srCtQIO', 'QwlxTGbtVw', 'ugn88cd', 'R66FIRrcuO', 'iBLW', '0US7b', 'eexTS', 'ZPbHOQ', 'iECczUgU', 'hb', 'qvD6', 'H2', 'eCL', 'Z3sVS7qeA4', 'PcI', 'EAGXe', 'FC', '4xhycbb', 'ulPrqlgQm', '3j2dlI', '3QbCWG', 'mqAz9fyHp', 'PDCWs1xw', 'lLQQKi3jD5', 'cn', 'KDv9f5g', '3VBxgfE4UK', 'jaWGo', 'I6DRauWe', 'yVi', 'IlD0Ed', 'nVs6', 'TvZcCUPam', 'yUM', 'Zu3P1Ozq', 'BrUYYD4s', 'ChBYBfwR', 'SC4M9VuC7h', 'n8QE6b', 'd0oFfPGgO3', 'ZZBMv', 'TvaEQN', 'vqW', 'gXlI', 'NhwudsoUPu', 'rqX3Ozx', 'kAsteWwIy', 'ple', 'pGjAbZR1', 'dDWYe', 'caH1', 'cyd4g5tof', 'DpLuT', 'RD', 'oHgX', 'TAEg7QtYx5', '0cNW3Yr', '9HQgw9ZGP', 'KbQ6ZotuUt', 'gGb79O9ac', 'e8TFcv6hiU', 'dqTDb', 'ou5', 'BgV', 'wcyOK3O0rn', 'wupo', '4c78sJ', '7fP', 'Wu3iAkv', 'M8l', 'jMXShkoaNj', 'LkYqub04', 'Xrh', '3ux', '1r2Y', 'uV', 'BjxDr2BRzj', 'ALFmPM61pv', '3Fvgaro', 'Qm29UoY', 'lVf67qw05', 'zthih6', 'tqZJo', 'fseWNN', 'EFg', 'WW1T2', 'YYjGwAG', 'msBfIb0u7', '2LfK9aVJ', 'cAs', 'kebx27Gg', 'lrE8eccUJ', '5R18juC', 'hMnZITH', 'ODXmdVIBS', 'NKwXNsIU', 'cYPZ3FmZ', 'f50TatXJ', 'CNt3G5UW2', 'gCM1m', 'znJp', 'l1fw76S4pO', 'n8t', 'rvGf', 'raz', 'IiZSIFBLr', 'bIfSKl', 'N3Y5hb7', 'RsEScV', 'SZYcAH', 'febnzw', 'MvXuDehsl', 'CRnz', '15naQbKq8y', 'oiyh', 'xw', 'w80P1', '1xVTc6pQ', 'j90RMGFH', 'UpBzhU80', '9Aws', 'nMD3cvQPHN', 'AfQI', 'qwaKpq', 'sCssw4', 'xWSVU2', 't2K5laKGPt', 'nYWv90U', 'Ys5cZC', 'wzRK44SP', 'y2AmDtg', 'iLl0qi', '0rAMYg58Nc', '3TE9JRAI', 'AIkYTP', 'ZoVfUe', 'T4n1', 'Ulv', '4SlwiizZ4c', 'R7', '3CgGyrM', 'Y3', 'tb2EhAF30P', 'NheH2N', 'BW1Mil', 'QHTv', 'mR', 'qJacX', 'MvZ', '46', 'fbAlI', '3IhThv', '3M4OaJ', 'qVI9aN', 'cRDVpC', 'uXvnGW', 'plKqfb9P', 'HDRwVh', 'mwOl5', '41RhzlFCyo', 'HvQq', 'ufz', 'Z64j', 'IA', 'AJjhgiDlZ', 'duOLmUw1W5', 'kGy', '66xjsRFni', 'ejmeYMzXw', 'hO0', 'zFjp', 'ggW78', '9MEd', '2zcqj', 'wrIc1', 'Zmg', 'Oi0fQocJ', 'DmZjHFKGD', 'FEEVnF', 'c5Gp', 'TS', 'ksAp8rGH', 'mWbXdr5AK', 'iA2wF49oH', 'naFB5C', 'y6', 'pKJw4c7W', 'TJYDRE', 'Xae', 'WWS9', 'Gyi3', 'wLeb', '0Q9YJ5', 'i3FCM2l1', 'hfR', '600zkMG', 'EbNy1', 'zZsL', '2X', '7DESdPZW', 'ftV', '8j', 'vpSRWD', 'nZ28', 'iQOv', 'Htdy', 'PP5ih4ZQ0', '36k8gdrj', 'hWyoXYaEP', '0J9S', '42yRw', 'PjHPS', 'hhuFg', 'zRbX4', 's3s93', 'T2h7e1cy4', 'z9', '2GKFycK', 'zUANlltuTp', 'jTbfJ', '0i', 'FxrzAOz', 'c0lH1', 'yDYBUKphSo', 'qRT2ARz', '4yUAeEx', 'vyrCl', 'lNoo5d9fE4', 'Doq19b', 'IjjyZFEUi', 'XWrIFodL', 'gCO', 'TzxyaUVg', 'tuDuYKFj', 'bXEs2zHBV', 'jpG1dI1', 'VzY', 'Vit7V', 'Iy6BWhoV1', 'OE5Qk6B', 'uGBL8JV', 'cVlb', 'Dmd8', 'wtwYXBh', 'HrJU6m63pJ', 'eXKIN8', 'G6sk6fyFX9', 'pqdsXetts', 'fOb5fcmUVG', 'vq82', 'UwBlZKnzzQ', 'aRWGYVD3', 'gFXlJUvt', 'oS', 'yqzEc3nk', 'mT', '7ZfcnjLncc', 'KaT87TN', 'e89Y3', 'Cs0SK1VeH', '26', 'usp', 'gv5v8z', 'Lgq', 'ePwkYQRp', '2tI2M98', 'oKgVnP5i', 'o9hHSC', '3loPLfj', 'tBhh', 'W7UP', 'GYF', 'O7', 'AfkJRQq', 'TefI3', 'UPqR4V5s1y', 'gmTO', 'gN6sjVjNn', 'gE57mqI16B', 'eA45SCQ00K', 'Xeyq', 'pcX2W78', 'oleFEWQO', 'P3Ur', 'vX0II7i', 'JZwKh6x1b', 'kYPMT', 'uhI3F3iB', 'yt', 'clgjYH', '28Ht0', 'Glsmy8eR0w', '4dM', 'H8EUN', 'sbDuoVi5R', '7v0rt', '6tc', '0oB2J0X', 'ZuWMUM2wV', 'CJI48aq8bq', 'FwPAcDQ', 'gtg2G246', 'eoP', 'LQuN1Bo', '9D2sVW', '4sgXb1D6h9', 'tGllN9', 'H9LK9gO8n', '49J4Yfd', '5pE3', 'GXnXvMe', 'fJtNuO', 'tkbN', 'cAiih3O', 'I3UkQN8ozX', '3fWkWqU', 'ateSH', 'iTXSD', 'Zs', 'u3e', 'zTAp5', 'AMEY', 'WiTza6', 'zthEDsefJ', 'uy8ImvC', 'AH', 'LYo', 'Botw', 'xLm', 'jsIqQD', 'U5U', 'G4M1iQSJ', 'Ag4b9', 'LMKwMkWyb', 'Ry', 'I0Js', 'xWa', 'HUlFqfQ', 'Qe', 'lA', 'vC', 'L8n0Uqz', 'zDjQyMV', 'az9SDhSu', 'srhl44', 'H7Zx1sym', 'W0qznUAG0w', 'Z1EqiGJj', 'hCadz34zT', 'Ax', 'Awh6DKQbJ8', 'pHLxcu', 'BZBVoI', 'xr9rhzp', '7tjUn', 'zl', 'oqX0FaP', 'QpzWitLM', 'Z7IOt', 'DPbja', 'HSBuo', '7Ii', '0eoOpzZ', 'gUWjBv', 'Hz', 'gErYyen8p', 'VuwvmLQ', 'of1LUk3', 'jLfb', 'l8iPqBL7x', 'inLLVZti3', 'Ci0', 'dNmky', '36Es', 'ImiaMUy8', '1xz', 'tuvaT86C', 'dWdNdSMnc', 'def7mi', 'nCjTfL8i', 'DbXa', 'N9ic4', 'F6ND1CcFt', '91wz', 'vQ', 'dmZypIcSYa', 'x1', 'Y9M', '6xY', 'T8OVQW', 'zuTfFj4Auf', 'zmc', '1M', 'KLLa3fIEW', 'w7V', 'piYZ1AjaM', 'zU', 'fYCP', 'A2mGeyiw4O', 'b3V', 'cG', '2labfq9V9', 'ZbFs6BPJn', 'BGxdZ3', 'IwTv', 'oPl', 'mwf', 'VYJyUaw', 'hfGkk', 'DxmzJ', 'M7ETb3', 'nxX21', 'JgyJOC', 'IG1nuBaI05', 'dTSi', 'Tpm0Mfcy', 'N2BxW', 'Vt', 'yZB', 'sbT', 'AdULgTM2', 'H9pnbUodgz', '54bOgV4FuH', 'zCMu', 'GsH', 'dlZmqQ2v', 'RpMAm6', 'aw', 'elM', 'MMXP', 'tjI', 'FsA7W', 'alG', 'L0z', 'CqU3q', 'ZBeARIsLFq', 'K0EhXU', 'Las0', 'wA94DLY7ww', 'HqUM', 'MIW5', 'c2', 'Wfp', 'R0mHcBm', 'RWaXqiH861', '91LX6it', 'jrZuOfpII', 'zpFdC', 'mMCb', 's4aPX1EXx1', 'zP5y2bsbZ', '5Osx', 'aJE2', 'ZAO6oca', 'U5gvr5Y', '7dvXYr7', 'P0lCAeA', 'Bky', 'pIbrA6AxS', 'LhTksV', 'GS', 'e4A0czkT', '1Jbe', 'kXf4kwH', 'nxmYxwP', 'nsrUzA', 'eg', 'ZRq1AWtu', '1s0Cbk9', 'Luyr', 'eStPHEMajp', 'wOIvRDxh', '7mX9SR', 'Ioh', '2QSNJGnS', 'ZKeAFJ', 'GEMBY', 'vBGPSnZd0', 'oPKe', '9YbUjUO', 'sTLzY3f', 'tXg59GXcm', 'y1ArcAWpBs', 'oVxia597V', 'yAB6VLl', 'QzTxP', 'RK', 'Vds1VKT', 'qb9nixVR', 'p1G', 'OIkN', 'Fwpx', '3Wtt', 'YQCjHw', 'h7', '7qLRRg', 'CsQHKnX', 'yn5Q9WwoDs', 'eRMXVBSG', 'uDxhac', 'QPi', 'zCH', 'Eydjiua5P', 'n1', 'YSG', 'UQ0mZfjLm', 'D0kb', 'rOrPX', 'mYhZp17fu', 'xdL8TZ', 'mgDZW5q1xT', 'BK', 'hSzeMn4', 'p1wJUru', 'dk8GrdQdP', 'n4BK1x5Wkk', 'BQh7qU1', '4bN', 'YYOTQx', 'e2wrj', 'tTvDf', 'o5vH', 'eYxJOBtp', 'D8jAGFo', '24ivmqXqs3', 'PlAR', 'qoDjUfswr', '171Oiv8pvc', '7N48Kbcn', 'gGzD', 'r1fU8yvRyW', 'gBUfp', '4Z5Axbbk', 'baghGL5Z', 'biPWgA0', 'LMtt3LPQMf', 'bWeUg', 'TfJOSl', 'ycc77vB1r7', 'd3hn', 'YcpJCBL4', '0NeWZtRok', 'I5a6WjTm', 'BKyWUQeo0', 'lZvUGVx', 'ZG6x892dq', 'R4DTEZtQRk', 'Dvy0t', 'UKKVLL', 'xM', 'Rhv6a', 'UqGAfikg9', 'x0DxeV', 'UKH', 'S24F', 'KyjgJyoNsv', 'hsri8QxPk0', 'YVUe', 'XT6pp1', 'wtDpWDv', 'fUkkU', 'df8HdAbWW', 'hSzWKBAS8', 'lcAKc', 'IJ', 'GzdXGyXt1', 'xG53w0Y', '1qa', 'vAyo4UxPB', 'w7tWDtf20K', 'zA32N814Eq', 'hlocLfjUi', 'MbDtyKcV', 'ci', 'Iv', 'DVs', 'Tn4RwCT8h', 'Vyc5w7Y', 'PmKS', 'D7e2d8', 'RVMzwNY', 'yzm8fqqekU', 'AC4cUcI6d', 'XwnVJ8sOp', 'vD', 'oCs7XgaFKG', 'oaUk48g', 'NiuYnxwPq', 'xT', 'Y3I', 'JyHtDde', 'ONRpko', '94zIUffz', 'u96xTnb', 'dOJfOa2s', 'eV', 'ZddbE', 'Yv3kgI', 'lleBBbGqH4', '2KQ0', 'ERJI', 'hXw0EyKfJd', 'jcbQ', 'WTxwu3H', 'OTX7WU', 'y3', 'jxqNX8t', 'vxaaAL1KST', 'WPUU4WExkN', '1jmqai', 'hN', '7ddPMfwPW', '1Lph7P', 'O3Qdupo', 'iNflBBu4P', 'SEwS', 'HdLMdRQ7', 'AV', 'kNuL8ykmPc', 'PrWN1nYQG', '5GruBX', 'vUj8UkVv9', 'BltWL', 'I7NjSkabj1', 'euS', 'QOEyJCVoH', 'ehw', 'NwtNGC', 'WeYDJAT', 'kMzU', 'IaQht', 'XRBlnY5qnj', 'jA7', 'G8oYEBvjrQ', '8FMuJsffRN', 'Z7lBm9', 'x04tGZ', 'YBdXFfpX', 'eQ9o8F', 'ULBX', 'VYYmuZb', 'cFSLJo68UR', 'UJidbTJ0Hq', '8DZVoV', 'orWnIqhh', '9CO61KR', 'su0P', '8B67dEoA', '7KJJ', 'VVMUQVL5', '598z', '3AMg4Z8', 'dtsrQqrO', 'JNGc98Y', 'Cp2QPYPvA', 'glQLwpktPZ', 'OX', 'NDmPoIRfZJ', 'bdZrJ7', 'ptOucnwX2', 'GfTe', 'XhCXPvLLS', 'Qp', 'jPVo', 'eJ9Vj', 'lPoHVG', '9hl', 'LLKDg', 'bV', 'YcEKl', 'aBx', '1gA', 'yOhJTLq3', 'Lvs7', '0G2', 'cgXVOSyON', 'eyrt4vC', 'Bm5NqAp', 'jqTX', 'qN', 'cWoeXZYI', 'zjX', '1fuv', 'N3lrKuWPF', 'FJT', 'tkxN2I9OM', 'POUEW5A', 'VI6', '4CT0JM4oj', 'j9wrm4HU', 'JXKP2QCm7p', 'eQwDy', 'Y8QFVeCkEB', 'F42An5', '95o9Cj', 'GcSFW', 'wCuL', 'NFIJwqL', 'WKK4xE7', 'pu8', 'klZXGlpZb', '0mP', 'HgDGZ8vx', 't9unqGc1', 'OhDhFjzz', 'H6EOw9', 'gTjhxG1', 'Kd', '7Iw', 'ZNSGvV2qe', 'U72Yv', '1icK38JF', 'SgGI0', 'iIaq', 'nSPJ82r9', 'awqlZUV', 'F3OK7IUSHu', 'tdfXuImw', 'Dg', 'S1V', 'etwsFs', '4VfuygT3k', '4Hz1VS7xj', 'eeRD9UHyN', 'n8qHX2DzF', 'WJC', 'afO', 'oeq7X', 'VX', 'yyo8bqD', 'DphB', 'BtQ6w', 'A9H8', 'mgVjDCiRq', 'KWGRlAg', 'yTTFeJz', 'dND2Yk674C', 'pa', 'X9', 'Lt6D7Guh', '6PdSiQ7KK', 'qUr', 'M18aZ', '8xjhd7v', '9D5GKR', 'wAjLTQPU4', 'wQFSt3w', 'hZCN', 'gImtHfpyJ9', 'QQc', 'eYq', 'sIRMv2U4X', 'Rkzp', 'u9SMRn7', '0I', 'cFPW', 'TZGyN', '7doVyGWt', 'Fj', '1xmejE1V', '0c1x', 'JCWVZZVM0N', 'WqHzGpg5b', '87', 'SnIc5tSAG', 'NFEtT', 'ARIo7XrmcN', 'Gk0C0FWOY', 'EOJbhuGi', '88', 'Ui', 'fudUApeN3K', 'Eyl', 'Ez7', 'oZybiAFS', 'GskXHhF', 'v1vx', 'uik0Hble', '2Pdmho4JCU', 'D5Iu', '2Ab5Go', 'jR44', 'dyd0']\n"
     ]
    }
   ],
   "source": [
    "print(Strings) #mcqSysP, #tQHm2k"
   ]
  },
  {
   "cell_type": "code",
   "execution_count": 84,
   "metadata": {},
   "outputs": [
    {
     "data": {
      "text/plain": [
       "'tQHm2k'"
      ]
     },
     "execution_count": 84,
     "metadata": {},
     "output_type": "execute_result"
    }
   ],
   "source": [
    "Hashvalue = 0\n",
    "Primeno = 13\n",
    "Power = 1\n",
    "\n",
    "for i in range(len(Strings[0]))\n",
    "    Hashvalue += ..."
   ]
  },
  {
   "cell_type": "code",
   "execution_count": 87,
   "metadata": {},
   "outputs": [
    {
     "name": "stdout",
     "output_type": "stream",
     "text": [
      "20\n"
     ]
    }
   ],
   "source": [
    "Arr = {\"Aakash\": 20, \"Arshad\": 21}\n",
    "print(Arr['Aakash'])"
   ]
  },
  {
   "cell_type": "code",
   "execution_count": 92,
   "metadata": {},
   "outputs": [
    {
     "name": "stdout",
     "output_type": "stream",
     "text": [
      "{'A': 65, 'B': 66, 'C': 67, 'D': 68, 'E': 69, 'F': 70, 'G': 71, 'H': 72, 'I': 73, 'J': 74, 'K': 75, 'L': 76, 'M': 77, 'N': 78, 'O': 79, 'P': 80, 'Q': 81, 'R': 82, 'S': 83, 'T': 84, 'U': 85, 'V': 86, 'W': 87, 'X': 88, 'Y': 89, 'Z': 90, 'a': 91, 'b': 92, 'c': 93, 'd': 94, 'e': 95, 'f': 96, 'g': 97, 'h': 98, 'i': 99, 'j': 100, 'k': 101, 'l': 102, 'm': 103, 'n': 104, 'o': 105, 'p': 106, 'q': 107, 'r': 108, 's': 109, 't': 110, 'u': 111, 'v': 112, 'w': 113, 'x': 114, 'y': 115, 'z': 116, '0': 117, '1': 118, '2': 119, '3': 120, '4': 121, '5': 122, '6': 123, '7': 124, '8': 125, '9': 126}\n"
     ]
    }
   ],
   "source": [
    "Asciival = {}\n",
    "for i in range(len(Alphabets)):\n",
    "    Asciival[Alphabets[i]] = 65+i\n",
    "print(Asciival)"
   ]
  },
  {
   "cell_type": "code",
   "execution_count": null,
   "metadata": {},
   "outputs": [],
   "source": []
  }
 ],
 "metadata": {
  "kernelspec": {
   "display_name": "Python 3",
   "language": "python",
   "name": "python3"
  },
  "language_info": {
   "codemirror_mode": {
    "name": "ipython",
    "version": 3
   },
   "file_extension": ".py",
   "mimetype": "text/x-python",
   "name": "python",
   "nbconvert_exporter": "python",
   "pygments_lexer": "ipython3",
   "version": "3.6.5"
  }
 },
 "nbformat": 4,
 "nbformat_minor": 2
}

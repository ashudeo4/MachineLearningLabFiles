{
 "cells": [
  {
   "cell_type": "markdown",
   "metadata": {},
   "source": [
    "## Binomial Distribution Graph"
   ]
  },
  {
   "cell_type": "code",
   "execution_count": 45,
   "metadata": {},
   "outputs": [],
   "source": [
    "import random\n",
    "import numpy as np\n",
    "import matplotlib.pyplot as plt"
   ]
  },
  {
   "cell_type": "code",
   "execution_count": 38,
   "metadata": {},
   "outputs": [],
   "source": [
    "# hcount = []\n",
    "# tcount = []\n",
    "hfreq  = [0] * 6\n",
    "tfreq  = [0] * 6"
   ]
  },
  {
   "cell_type": "code",
   "execution_count": 39,
   "metadata": {},
   "outputs": [],
   "source": [
    "for i in range(50000):\n",
    "    a = [random.choice(['H', 'T'])for i in range(5)]\n",
    "#     hcount.append(a.count('H'))\n",
    "#     tcount.append(a.count('T'))\n",
    "    hfreq[a.count('H')] += 1\n",
    "    tfreq[a.count('T')] += 1"
   ]
  },
  {
   "cell_type": "code",
   "execution_count": 40,
   "metadata": {},
   "outputs": [],
   "source": [
    "hcount.sort()\n",
    "tcount.sort()"
   ]
  },
  {
   "cell_type": "code",
   "execution_count": 41,
   "metadata": {},
   "outputs": [
    {
     "data": {
      "text/plain": [
       "array([0.03158, 0.1551 , 0.30992, 0.31224, 0.15922, 0.03194])"
      ]
     },
     "execution_count": 41,
     "metadata": {},
     "output_type": "execute_result"
    }
   ],
   "source": [
    "np.array(hfreq).astype(float) / 50000"
   ]
  },
  {
   "cell_type": "code",
   "execution_count": 42,
   "metadata": {},
   "outputs": [],
   "source": [
    "import seaborn as sns"
   ]
  },
  {
   "cell_type": "code",
   "execution_count": 46,
   "metadata": {},
   "outputs": [
    {
     "data": {
      "text/plain": [
       "([<matplotlib.axis.YTick at 0x7f3b380d6950>,\n",
       "  <matplotlib.axis.YTick at 0x7f3b380d6450>,\n",
       "  <matplotlib.axis.YTick at 0x7f3b381755d0>,\n",
       "  <matplotlib.axis.YTick at 0x7f3b380b4fd0>,\n",
       "  <matplotlib.axis.YTick at 0x7f3b380fd590>,\n",
       "  <matplotlib.axis.YTick at 0x7f3b380fdb10>],\n",
       " <a list of 6 Text yticklabel objects>)"
      ]
     },
     "execution_count": 46,
     "metadata": {},
     "output_type": "execute_result"
    },
    {
     "data": {
      "image/png": "[encoded data removed]",
      "text/plain": [
       "<Figure size 432x288 with 1 Axes>"
      ]
     },
     "metadata": {
      "needs_background": "light"
     },
     "output_type": "display_data"
    }
   ],
   "source": [
    "sns.barplot(x = [0, 1, 2, 3, 4, 5], y = np.array(hfreq).astype(float) / 50000)\n",
    "plt.yticks(np.array(hfreq).astype(float) / 50000)"
   ]
  },
  {
   "cell_type": "code",
   "execution_count": null,
   "metadata": {},
   "outputs": [],
   "source": []
  }
 ],
 "metadata": {
  "kernelspec": {
   "display_name": "Python 3",
   "language": "python",
   "name": "python3"
  },
  "language_info": {
   "codemirror_mode": {
    "name": "ipython",
    "version": 2
   },
   "file_extension": ".py",
   "mimetype": "text/x-python",
   "name": "python",
   "nbconvert_exporter": "python",
   "pygments_lexer": "ipython2",
   "version": "2.7.15rc1"
  }
 },
 "nbformat": 4,
 "nbformat_minor": 2
}
